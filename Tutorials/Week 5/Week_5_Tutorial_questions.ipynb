{
 "cells": [
  {
   "cell_type": "markdown",
   "metadata": {},
   "source": [
    "# Resampling methods\n",
    "\n",
    "The materials used in this tutorial are based on the applied exercises provided in the book <font color=\"brown\">\"An Introduction to Statistical Learning with Applications in R\"</font> (<a href=\"http://www-bcf.usc.edu/~gareth/ISL/\">ISLR</a>). We are trying to demonstrate how to use R to use resampling methods and assess their performance on real-world datasets. Besides the exercises that we are going to cover in this tutorial, it is worth trying the other applied exercises by yourself in Section 5.4."
   ]
  },
  {
   "cell_type": "markdown",
   "metadata": {},
   "source": [
    "## Question 1 Predicting the default status on credit card payment\n",
    "\n",
    "This question should be answered using the **Default** data set, which is part of the <font color=\"red\">ISLR</font> package. This data contains the information of 10,000 customers to see how they default on their credit card debt."
   ]
  },
  {
   "cell_type": "code",
   "execution_count": 1,
   "metadata": {
    "collapsed": true
   },
   "outputs": [],
   "source": []
  },
  {
   "cell_type": "code",
   "execution_count": null,
   "metadata": {},
   "outputs": [],
   "source": []
  },
  {
   "cell_type": "markdown",
   "metadata": {},
   "source": [
    "This dataset consists of 10,000 observations on the following 4 variables. (The following detail is copied and pasted from <a href=\"https://cran.r-project.org/web/packages/ISLR/ISLR.pdf\">here</a>)\n",
    "* <font color=\"orange\">default</font> A factor with levels No and Yes indicating whether the customer defaulted on their debt\n",
    "* <font color=\"orange\">student</font> A factor with levels No and Yes indicating whether the customer is a student\n",
    "* <font color=\"orange\">balance</font> The average balance that the customer has remaining on their credit card after making their monthly payment\n",
    "* <font color=\"orange\">income</font> Income of customer\n",
    "\n"
   ]
  },
  {
   "cell_type": "markdown",
   "metadata": {},
   "source": [
    "We can have a look at the structure of <font color=\"orange\">Default</font> using the <a href=\"https://stat.ethz.ch/R-manual/R-devel/library/utils/html/str.html\">str()</a> function. The function will give us information of the data that you should know. For example, the data type of each column, the total number of observations, the total number of variables, etc. Note that the <font color=\"orange\">default</font> and <font color=\"orange\">student</font> are categorical variables (or factors) with two levels."
   ]
  },
  {
   "cell_type": "code",
   "execution_count": null,
   "metadata": {},
   "outputs": [],
   "source": []
  },
  {
   "cell_type": "code",
   "execution_count": null,
   "metadata": {},
   "outputs": [],
   "source": []
  },
  {
   "cell_type": "markdown",
   "metadata": {},
   "source": [
    "We can look at the information of the variables using <a href=\"https://stat.ethz.ch/R-manual/R-devel/library/base/html/summary.html\">summary()</a> function."
   ]
  },
  {
   "cell_type": "code",
   "execution_count": null,
   "metadata": {},
   "outputs": [],
   "source": []
  },
  {
   "cell_type": "markdown",
   "metadata": {},
   "source": [
    "### 1.1 Fit a logistic regression model that uses <font color=\"orange\">income</font> and <font color=\"orange\">balance</font> to predict <font color=\"orange\">default</font>. "
   ]
  },
  {
   "cell_type": "code",
   "execution_count": null,
   "metadata": {},
   "outputs": [],
   "source": []
  },
  {
   "cell_type": "markdown",
   "metadata": {},
   "source": [
    "We can use the Chisq test to check how well is the logistic regression model in comparison with a null model.  "
   ]
  },
  {
   "cell_type": "code",
   "execution_count": null,
   "metadata": {},
   "outputs": [],
   "source": []
  },
  {
   "cell_type": "markdown",
   "metadata": {},
   "source": []
  },
  {
   "cell_type": "markdown",
   "metadata": {},
   "source": [
    "### 1.2 Using the validation set approach, estimate the test error of this model. \n",
    "\n",
    "In order to do this, you must perform the following steps:\n",
    "\n",
    "* Split the sample set into a training set and a validation set.\n",
    "* Fit a multiple logistic regression model using only the training observations.\n",
    "* Obtain a prediction of default status for each individual in the validation set by computing the posterior probability of default for that individual, and classifying the individual to the <font color=\"orange\">default</font> category if the posterior probability is greater than 0.5.\n",
    "* Compute the validation set error, which is the fraction of the observations in the validation set that are misclassified."
   ]
  },
  {
   "cell_type": "code",
   "execution_count": 24,
   "metadata": {
    "collapsed": true
   },
   "outputs": [],
   "source": []
  },
  {
   "cell_type": "code",
   "execution_count": null,
   "metadata": {},
   "outputs": [],
   "source": []
  },
  {
   "cell_type": "code",
   "execution_count": null,
   "metadata": {},
   "outputs": [],
   "source": []
  },
  {
   "cell_type": "markdown",
   "metadata": {},
   "source": [
    "\n",
    "\n",
    "The validation set error, which is the fraction of the observations in the validation set that are misclassified, is calculated using the following code:"
   ]
  },
  {
   "cell_type": "code",
   "execution_count": null,
   "metadata": {},
   "outputs": [],
   "source": []
  },
  {
   "cell_type": "markdown",
   "metadata": {},
   "source": [
    "### 1.3 Repeat the process in <font color=\"red\">1.2</font> three times, using three different splits of the observations into a training set and a validation set. Comment on the results obtained. \n",
    "In this task, we are going to predict three different splits for the observations. We used the <font color=\"orange\">income</font> variable to split the data set. "
   ]
  },
  {
   "cell_type": "code",
   "execution_count": null,
   "metadata": {},
   "outputs": [],
   "source": [
    "range(Default$income)\n",
    "quantile(Default$income, c(0.33, 0.67))"
   ]
  },
  {
   "cell_type": "code",
   "execution_count": 12,
   "metadata": {},
   "outputs": [],
   "source": [
    "train1 = (Default$income > 25306.38)\n",
    "train2 = (Default$income < 25306.38 | (Default$income > 40732.33))\n",
    "train3 = (Default$income < 40732.33)"
   ]
  },
  {
   "cell_type": "code",
   "execution_count": null,
   "metadata": {},
   "outputs": [],
   "source": []
  },
  {
   "cell_type": "code",
   "execution_count": null,
   "metadata": {},
   "outputs": [],
   "source": []
  },
  {
   "cell_type": "markdown",
   "metadata": {},
   "source": [
    "The validation error for the model is generated based on the first train data set (train1) is "
   ]
  },
  {
   "cell_type": "code",
   "execution_count": null,
   "metadata": {},
   "outputs": [],
   "source": []
  },
  {
   "cell_type": "code",
   "execution_count": null,
   "metadata": {},
   "outputs": [],
   "source": []
  },
  {
   "cell_type": "markdown",
   "metadata": {},
   "source": [
    "The validation error for the model is generated based on the second train data set (train2) is "
   ]
  },
  {
   "cell_type": "code",
   "execution_count": null,
   "metadata": {},
   "outputs": [],
   "source": []
  },
  {
   "cell_type": "code",
   "execution_count": null,
   "metadata": {},
   "outputs": [],
   "source": []
  },
  {
   "cell_type": "markdown",
   "metadata": {},
   "source": [
    "The validation error for the model is generated based on the third train data set (train3) is  "
   ]
  },
  {
   "cell_type": "markdown",
   "metadata": {},
   "source": [
    "As can be seen, "
   ]
  },
  {
   "cell_type": "markdown",
   "metadata": {},
   "source": [
    "### 1.4 Now consider a logistic regression model that predicts the probability of <font color=\"orange\">default</font> using <font color=\"orange\">income</font>, <font color=\"orange\">balance</font>, and a dummy variable for <font color=\"orange\">student</font>. Estimate the test error for this model using the validation set approach. Comment on whether or not including a dummy variable for <font color=\"orange\">student</font> leads to a reduction in the test error rate.\n"
   ]
  },
  {
   "cell_type": "code",
   "execution_count": null,
   "metadata": {},
   "outputs": [],
   "source": []
  },
  {
   "cell_type": "markdown",
   "metadata": {},
   "source": [
    "In the new model, "
   ]
  },
  {
   "cell_type": "code",
   "execution_count": null,
   "metadata": {},
   "outputs": [],
   "source": []
  },
  {
   "cell_type": "code",
   "execution_count": null,
   "metadata": {},
   "outputs": [],
   "source": []
  },
  {
   "cell_type": "markdown",
   "metadata": {},
   "source": [
    "The validation error "
   ]
  },
  {
   "cell_type": "markdown",
   "metadata": {},
   "source": [
    "## Question 2 Using Bootstrap on predicting the default status\n",
    "\n",
    "We continue to consider the use of a logistic regression model to predict the probability of <font color=\"orange\">default</font> using <font color=\"orange\">income</font> and <font color=\"orange\">balance</font> on the <font color=\"orange\">Default</font> data set. In particular, we will now compute estimates for the standard errors of the <font color=\"orange\">income</font> and <font color=\"orange\">balance</font> logistic regression coefficients in two different ways: (1) using the bootstrap, and (2) using the standard formula for computing the standard errors in the <font color=\"blue\">glm()</font> function. Do not forget to set a random seed before beginning your analysis."
   ]
  },
  {
   "cell_type": "markdown",
   "metadata": {
    "collapsed": true
   },
   "source": [
    "### 2.1 Using the <font color=\"blue\">summary()</font> and <font color=\"blue\">glm()</font> functions, determine the estimated standard errors for the coefficients associated with <font color=\"orange\">income</font> and <font color=\"orange\">balance</font> in a multiple logistic regression model that uses both predictors."
   ]
  },
  {
   "cell_type": "code",
   "execution_count": 27,
   "metadata": {
    "collapsed": true
   },
   "outputs": [],
   "source": []
  },
  {
   "cell_type": "code",
   "execution_count": null,
   "metadata": {},
   "outputs": [],
   "source": []
  },
  {
   "cell_type": "markdown",
   "metadata": {},
   "source": [
    "The <font color=\"blue\">glm()</font> estimates the standard errors for the coefficients β0, β1 and β2 are respectively "
   ]
  },
  {
   "cell_type": "markdown",
   "metadata": {},
   "source": [
    "### 2.2 Write a function, <font color=\"blue\">boot.fn()</font>, that takes as input the <font color=\"orange\">Default</font> data set as well as an index of the observations, and that outputs the coefficient estimates for <font color=\"orange\">income</font> and <font color=\"orange\">balance</font> in the multiple logistic regression model."
   ]
  },
  {
   "cell_type": "code",
   "execution_count": 30,
   "metadata": {},
   "outputs": [],
   "source": []
  },
  {
   "cell_type": "code",
   "execution_count": null,
   "metadata": {},
   "outputs": [],
   "source": []
  },
  {
   "cell_type": "markdown",
   "metadata": {},
   "source": [
    "This function can make the logistic model based on sample data sets."
   ]
  },
  {
   "cell_type": "code",
   "execution_count": null,
   "metadata": {},
   "outputs": [],
   "source": []
  },
  {
   "cell_type": "markdown",
   "metadata": {},
   "source": [
    "### 2.3 Use the <a href=\"https://cran.r-project.org/web/packages/boot/boot.pdf\">boot()</a> function together with your <font color=\"blue\">boot.fn()</font> function to estimate the standard errors of the logistic regression coefficients for <font color=\"orange\">income</font> and <font color=\"orange\">balance</font>.\n",
    " "
   ]
  },
  {
   "cell_type": "code",
   "execution_count": null,
   "metadata": {},
   "outputs": [],
   "source": []
  },
  {
   "cell_type": "markdown",
   "metadata": {},
   "source": [
    "The bootstrap estimates of the standard errors for the coefficients β0, β1 and β2 are respectively "
   ]
  },
  {
   "cell_type": "markdown",
   "metadata": {},
   "source": [
    "### 2.4 Comment on the estimated standard errors obtained using the <font color=\"blue\">glm()</font> function and using your bootstrap function."
   ]
  },
  {
   "cell_type": "markdown",
   "metadata": {},
   "source": [
    "The standard errors for coefficients of both functions are "
   ]
  },
  {
   "cell_type": "code",
   "execution_count": null,
   "metadata": {
    "collapsed": true
   },
   "outputs": [],
   "source": []
  }
 ],
 "metadata": {
  "kernelspec": {
   "display_name": "R",
   "language": "R",
   "name": "ir"
  },
  "language_info": {
   "codemirror_mode": "r",
   "file_extension": ".r",
   "mimetype": "text/x-r-source",
   "name": "R",
   "pygments_lexer": "r",
   "version": "3.5.1"
  }
 },
 "nbformat": 4,
 "nbformat_minor": 1
}
