{
 "cells": [
  {
   "cell_type": "markdown",
   "metadata": {},
   "source": [
    "# Linear Model Selection and Regularization\n",
    "\n",
    "\n",
    "The materials used in this tutorial are based on the applied exercises provided in the book \"An Introduction to Statistical Learning with Applications in R\" (ISLR). We are trying to demonstrate how to implement the following methods of selecting the most appropriate model that explains the your data:\n",
    "    * Subset selection\n",
    "    * Shrinkage method\n",
    "        * Ridge regression (L-2 regularization)\n",
    "        * Lasso (L-1 regularization)\n",
    "\n",
    "Even though you will learn how to use the above methods, it still is worth trying by yourself\n",
    "    1. Sections 6.5 and 6.6 \n",
    "    1. The other practical exercises in section 6.8 (optional)\n",
    "    \n",
    "The libraries that you needed are\n",
    "* <a href=\"https://cran.r-project.org/web/packages/leaps/index.html\">leaps</a>\n",
    "* <a href=\"https://cran.r-project.org/web/packages/glmnet/index.html\">glmnet</a>\n",
    "    \n",
    "## 1. Subset Selection, Stepwise Selection and Lasso for selection features\n",
    "\n",
    "Subset selection is an approach of identifying a subset of predictors (or attributes) that we believe have a strong association with the response variable. In this exercise, we will generate some simulated data, and will use the generated data to perform best subset selection.\n",
    "\n",
    "### 1.1 Generate simulated data\n",
    "Here, we are going to use the <a href=\"https://stat.ethz.ch/R-manual/R-devel/library/stats/html/Normal.html\">rnorm()</a> function to generate a predictor $X$ of length $n = 100$, as well as a noise vector of length $n = 100$. Note that we start with setting the seed for the random number generate, the purpose of which is to make our analysis reproducible. "
   ]
  },
  {
   "cell_type": "code",
   "execution_count": 8,
   "metadata": {},
   "outputs": [],
   "source": [
    "set.seed(1)"
   ]
  },
  {
   "cell_type": "markdown",
   "metadata": {},
   "source": [
    "We first generate 100 random values that are normally distributed:"
   ]
  },
  {
   "cell_type": "code",
   "execution_count": 9,
   "metadata": {},
   "outputs": [],
   "source": [
    "x <- rnorm(100)"
   ]
  },
  {
   "cell_type": "markdown",
   "metadata": {},
   "source": [
    "Then, generate some random noises as irreducible errors."
   ]
  },
  {
   "cell_type": "code",
   "execution_count": 10,
   "metadata": {},
   "outputs": [],
   "source": [
    "eps <- rnorm(100)"
   ]
  },
  {
   "cell_type": "markdown",
   "metadata": {},
   "source": [
    "Now, we can generate a response vector $Y$ of length $n = 100$ according to the model \n",
    "    $Y = \\beta_0+\\beta_1 X +\\beta_2 X^2 +\\beta_3 X^3 + \\epsilon $ \n",
    "where $\\beta_0$, $\\beta_1$, $\\beta_2$ and $\\beta_3$  are constants of your choice.\n",
    "Here, we will set those coefficients as follows."
   ]
  },
  {
   "cell_type": "code",
   "execution_count": 11,
   "metadata": {},
   "outputs": [],
   "source": [
    "b0 <- 2\n",
    "b1 <- 3\n",
    "b2 <- -1\n",
    "b3 <- 0.5"
   ]
  },
  {
   "cell_type": "markdown",
   "metadata": {},
   "source": [
    "Given the coefficients, it is not hard to generate the simulated data using the polynomial function."
   ]
  },
  {
   "cell_type": "code",
   "execution_count": 12,
   "metadata": {},
   "outputs": [],
   "source": [
    "y <- b0 + b1 * x + b2 * x^2 + b3 * x^3 + eps"
   ]
  },
  {
   "cell_type": "markdown",
   "metadata": {},
   "source": [
    "### 1.2  Perform best subset selection \n",
    "In this task, we will use the regsubsets() function (refer to the documentation of <a href=\"https://cran.r-project.org/web/packages/leaps/leaps.pdf\">leaps</a> for the function specification) to perform best subset selection in order to choose the best model containing the predictors $X$, $X^2$, $\\dots$, $X^{10}$. What is the best model obtained according to $C_p$, $BIC$, and adjusted $R^2$? Show some plots to provide evidence for your answer, and report the coefficients of the best model obtained. Note you will need to use the <a href=\"https://stat.ethz.ch/R-manual/R-devel/library/base/html/data.frame.html\">data.frame()</a> function to create a single data set containing both $X$ and $Y$.\n",
    "\n",
    "We start with loading the library,"
   ]
  },
  {
   "cell_type": "code",
   "execution_count": 13,
   "metadata": {},
   "outputs": [],
   "source": [
    "library(leaps)"
   ]
  },
  {
   "cell_type": "markdown",
   "metadata": {},
   "source": [
    "Then, put our data into a data frame,"
   ]
  },
  {
   "cell_type": "code",
   "execution_count": 14,
   "metadata": {
    "scrolled": true
   },
   "outputs": [
    {
     "data": {
      "text/html": [
       "<table>\n",
       "<caption>A data.frame: 100 × 2</caption>\n",
       "<thead>\n",
       "\t<tr><th scope=col>y</th><th scope=col>x</th></tr>\n",
       "\t<tr><th scope=col>&lt;dbl&gt;</th><th scope=col>&lt;dbl&gt;</th></tr>\n",
       "</thead>\n",
       "<tbody>\n",
       "\t<tr><td> -1.0150966</td><td>-0.62645381</td></tr>\n",
       "\t<tr><td>  2.5624176</td><td> 0.18364332</td></tr>\n",
       "\t<tr><td> -2.4078320</td><td>-0.83562861</td></tr>\n",
       "\t<tr><td>  6.4288820</td><td> 1.59528080</td></tr>\n",
       "\t<tr><td>  2.2432515</td><td> 0.32950777</td></tr>\n",
       "\t<tr><td>  0.3565571</td><td>-0.82046838</td></tr>\n",
       "\t<tr><td>  3.9993110</td><td> 0.48742905</td></tr>\n",
       "\t<tr><td>  4.7812640</td><td> 0.73832471</td></tr>\n",
       "\t<tr><td>  3.8754480</td><td> 0.57578135</td></tr>\n",
       "\t<tr><td>  2.6585083</td><td>-0.30538839</td></tr>\n",
       "\t<tr><td>  5.3416993</td><td> 1.51178117</td></tr>\n",
       "\t<tr><td>  2.5855310</td><td> 0.38984324</td></tr>\n",
       "\t<tr><td>  1.0627399</td><td>-0.62124058</td></tr>\n",
       "\t<tr><td>-15.6311275</td><td>-2.21469989</td></tr>\n",
       "\t<tr><td>  4.6137254</td><td> 1.12493092</td></tr>\n",
       "\t<tr><td>  1.4703269</td><td>-0.04493361</td></tr>\n",
       "\t<tr><td>  1.6311721</td><td>-0.01619026</td></tr>\n",
       "\t<tr><td>  4.0819658</td><td> 0.94383621</td></tr>\n",
       "\t<tr><td>  4.5603652</td><td> 0.82122120</td></tr>\n",
       "\t<tr><td>  3.3563948</td><td> 0.59390132</td></tr>\n",
       "\t<tr><td>  3.7945024</td><td> 0.91897737</td></tr>\n",
       "\t<tr><td>  5.3169415</td><td> 0.78213630</td></tr>\n",
       "\t<tr><td>  2.0037629</td><td> 0.07456498</td></tr>\n",
       "\t<tr><td>-12.0415815</td><td>-1.98935170</td></tr>\n",
       "\t<tr><td>  3.4941661</td><td> 0.61982575</td></tr>\n",
       "\t<tr><td>  2.5410412</td><td>-0.05612874</td></tr>\n",
       "\t<tr><td>  1.4328861</td><td>-0.15579551</td></tr>\n",
       "\t<tr><td> -6.2037054</td><td>-1.47075238</td></tr>\n",
       "\t<tr><td> -0.3993972</td><td>-0.47815006</td></tr>\n",
       "\t<tr><td>  2.7913813</td><td> 0.41794156</td></tr>\n",
       "\t<tr><td>⋮</td><td>⋮</td></tr>\n",
       "\t<tr><td> 5.5621562</td><td> 0.475509529</td></tr>\n",
       "\t<tr><td>-0.7069759</td><td>-0.709946431</td></tr>\n",
       "\t<tr><td> 4.0300876</td><td> 0.610726353</td></tr>\n",
       "\t<tr><td>-2.1595022</td><td>-0.934097632</td></tr>\n",
       "\t<tr><td>-4.6516008</td><td>-1.253633400</td></tr>\n",
       "\t<tr><td> 2.7670496</td><td> 0.291446236</td></tr>\n",
       "\t<tr><td> 1.2177012</td><td>-0.443291873</td></tr>\n",
       "\t<tr><td> 4.0785598</td><td> 0.001105352</td></tr>\n",
       "\t<tr><td> 3.2450952</td><td> 0.074341324</td></tr>\n",
       "\t<tr><td> 0.9893710</td><td>-0.589520946</td></tr>\n",
       "\t<tr><td>-1.3526630</td><td>-0.568668733</td></tr>\n",
       "\t<tr><td> 2.5588514</td><td>-0.135178615</td></tr>\n",
       "\t<tr><td> 5.1838238</td><td> 1.178086997</td></tr>\n",
       "\t<tr><td>-8.1275004</td><td>-1.523566800</td></tr>\n",
       "\t<tr><td> 4.0548530</td><td> 0.593946188</td></tr>\n",
       "\t<tr><td> 2.7476953</td><td> 0.332950371</td></tr>\n",
       "\t<tr><td> 6.1244533</td><td> 1.063099837</td></tr>\n",
       "\t<tr><td> 0.2147656</td><td>-0.304183924</td></tr>\n",
       "\t<tr><td> 2.5682611</td><td> 0.370018810</td></tr>\n",
       "\t<tr><td> 1.8133728</td><td> 0.267098791</td></tr>\n",
       "\t<tr><td>-0.1788315</td><td>-0.542520031</td></tr>\n",
       "\t<tr><td> 5.4477767</td><td> 1.207867806</td></tr>\n",
       "\t<tr><td> 4.1841864</td><td> 1.160402616</td></tr>\n",
       "\t<tr><td> 4.6123720</td><td> 0.700213650</td></tr>\n",
       "\t<tr><td> 5.0322325</td><td> 1.586833455</td></tr>\n",
       "\t<tr><td> 2.4026657</td><td> 0.558486426</td></tr>\n",
       "\t<tr><td>-3.0585299</td><td>-1.276592208</td></tr>\n",
       "\t<tr><td>-1.1584740</td><td>-0.573265414</td></tr>\n",
       "\t<tr><td>-3.6798003</td><td>-1.224612615</td></tr>\n",
       "\t<tr><td>-0.0784326</td><td>-0.473400636</td></tr>\n",
       "</tbody>\n",
       "</table>\n"
      ],
      "text/latex": [
       "A data.frame: 100 × 2\n",
       "\\begin{tabular}{ll}\n",
       " y & x\\\\\n",
       " <dbl> & <dbl>\\\\\n",
       "\\hline\n",
       "\t  -1.0150966 & -0.62645381\\\\\n",
       "\t   2.5624176 &  0.18364332\\\\\n",
       "\t  -2.4078320 & -0.83562861\\\\\n",
       "\t   6.4288820 &  1.59528080\\\\\n",
       "\t   2.2432515 &  0.32950777\\\\\n",
       "\t   0.3565571 & -0.82046838\\\\\n",
       "\t   3.9993110 &  0.48742905\\\\\n",
       "\t   4.7812640 &  0.73832471\\\\\n",
       "\t   3.8754480 &  0.57578135\\\\\n",
       "\t   2.6585083 & -0.30538839\\\\\n",
       "\t   5.3416993 &  1.51178117\\\\\n",
       "\t   2.5855310 &  0.38984324\\\\\n",
       "\t   1.0627399 & -0.62124058\\\\\n",
       "\t -15.6311275 & -2.21469989\\\\\n",
       "\t   4.6137254 &  1.12493092\\\\\n",
       "\t   1.4703269 & -0.04493361\\\\\n",
       "\t   1.6311721 & -0.01619026\\\\\n",
       "\t   4.0819658 &  0.94383621\\\\\n",
       "\t   4.5603652 &  0.82122120\\\\\n",
       "\t   3.3563948 &  0.59390132\\\\\n",
       "\t   3.7945024 &  0.91897737\\\\\n",
       "\t   5.3169415 &  0.78213630\\\\\n",
       "\t   2.0037629 &  0.07456498\\\\\n",
       "\t -12.0415815 & -1.98935170\\\\\n",
       "\t   3.4941661 &  0.61982575\\\\\n",
       "\t   2.5410412 & -0.05612874\\\\\n",
       "\t   1.4328861 & -0.15579551\\\\\n",
       "\t  -6.2037054 & -1.47075238\\\\\n",
       "\t  -0.3993972 & -0.47815006\\\\\n",
       "\t   2.7913813 &  0.41794156\\\\\n",
       "\t ⋮ & ⋮\\\\\n",
       "\t  5.5621562 &  0.475509529\\\\\n",
       "\t -0.7069759 & -0.709946431\\\\\n",
       "\t  4.0300876 &  0.610726353\\\\\n",
       "\t -2.1595022 & -0.934097632\\\\\n",
       "\t -4.6516008 & -1.253633400\\\\\n",
       "\t  2.7670496 &  0.291446236\\\\\n",
       "\t  1.2177012 & -0.443291873\\\\\n",
       "\t  4.0785598 &  0.001105352\\\\\n",
       "\t  3.2450952 &  0.074341324\\\\\n",
       "\t  0.9893710 & -0.589520946\\\\\n",
       "\t -1.3526630 & -0.568668733\\\\\n",
       "\t  2.5588514 & -0.135178615\\\\\n",
       "\t  5.1838238 &  1.178086997\\\\\n",
       "\t -8.1275004 & -1.523566800\\\\\n",
       "\t  4.0548530 &  0.593946188\\\\\n",
       "\t  2.7476953 &  0.332950371\\\\\n",
       "\t  6.1244533 &  1.063099837\\\\\n",
       "\t  0.2147656 & -0.304183924\\\\\n",
       "\t  2.5682611 &  0.370018810\\\\\n",
       "\t  1.8133728 &  0.267098791\\\\\n",
       "\t -0.1788315 & -0.542520031\\\\\n",
       "\t  5.4477767 &  1.207867806\\\\\n",
       "\t  4.1841864 &  1.160402616\\\\\n",
       "\t  4.6123720 &  0.700213650\\\\\n",
       "\t  5.0322325 &  1.586833455\\\\\n",
       "\t  2.4026657 &  0.558486426\\\\\n",
       "\t -3.0585299 & -1.276592208\\\\\n",
       "\t -1.1584740 & -0.573265414\\\\\n",
       "\t -3.6798003 & -1.224612615\\\\\n",
       "\t -0.0784326 & -0.473400636\\\\\n",
       "\\end{tabular}\n"
      ],
      "text/markdown": [
       "\n",
       "A data.frame: 100 × 2\n",
       "\n",
       "| y &lt;dbl&gt; | x &lt;dbl&gt; |\n",
       "|---|---|\n",
       "|  -1.0150966 | -0.62645381 |\n",
       "|   2.5624176 |  0.18364332 |\n",
       "|  -2.4078320 | -0.83562861 |\n",
       "|   6.4288820 |  1.59528080 |\n",
       "|   2.2432515 |  0.32950777 |\n",
       "|   0.3565571 | -0.82046838 |\n",
       "|   3.9993110 |  0.48742905 |\n",
       "|   4.7812640 |  0.73832471 |\n",
       "|   3.8754480 |  0.57578135 |\n",
       "|   2.6585083 | -0.30538839 |\n",
       "|   5.3416993 |  1.51178117 |\n",
       "|   2.5855310 |  0.38984324 |\n",
       "|   1.0627399 | -0.62124058 |\n",
       "| -15.6311275 | -2.21469989 |\n",
       "|   4.6137254 |  1.12493092 |\n",
       "|   1.4703269 | -0.04493361 |\n",
       "|   1.6311721 | -0.01619026 |\n",
       "|   4.0819658 |  0.94383621 |\n",
       "|   4.5603652 |  0.82122120 |\n",
       "|   3.3563948 |  0.59390132 |\n",
       "|   3.7945024 |  0.91897737 |\n",
       "|   5.3169415 |  0.78213630 |\n",
       "|   2.0037629 |  0.07456498 |\n",
       "| -12.0415815 | -1.98935170 |\n",
       "|   3.4941661 |  0.61982575 |\n",
       "|   2.5410412 | -0.05612874 |\n",
       "|   1.4328861 | -0.15579551 |\n",
       "|  -6.2037054 | -1.47075238 |\n",
       "|  -0.3993972 | -0.47815006 |\n",
       "|   2.7913813 |  0.41794156 |\n",
       "| ⋮ | ⋮ |\n",
       "|  5.5621562 |  0.475509529 |\n",
       "| -0.7069759 | -0.709946431 |\n",
       "|  4.0300876 |  0.610726353 |\n",
       "| -2.1595022 | -0.934097632 |\n",
       "| -4.6516008 | -1.253633400 |\n",
       "|  2.7670496 |  0.291446236 |\n",
       "|  1.2177012 | -0.443291873 |\n",
       "|  4.0785598 |  0.001105352 |\n",
       "|  3.2450952 |  0.074341324 |\n",
       "|  0.9893710 | -0.589520946 |\n",
       "| -1.3526630 | -0.568668733 |\n",
       "|  2.5588514 | -0.135178615 |\n",
       "|  5.1838238 |  1.178086997 |\n",
       "| -8.1275004 | -1.523566800 |\n",
       "|  4.0548530 |  0.593946188 |\n",
       "|  2.7476953 |  0.332950371 |\n",
       "|  6.1244533 |  1.063099837 |\n",
       "|  0.2147656 | -0.304183924 |\n",
       "|  2.5682611 |  0.370018810 |\n",
       "|  1.8133728 |  0.267098791 |\n",
       "| -0.1788315 | -0.542520031 |\n",
       "|  5.4477767 |  1.207867806 |\n",
       "|  4.1841864 |  1.160402616 |\n",
       "|  4.6123720 |  0.700213650 |\n",
       "|  5.0322325 |  1.586833455 |\n",
       "|  2.4026657 |  0.558486426 |\n",
       "| -3.0585299 | -1.276592208 |\n",
       "| -1.1584740 | -0.573265414 |\n",
       "| -3.6798003 | -1.224612615 |\n",
       "| -0.0784326 | -0.473400636 |\n",
       "\n"
      ],
      "text/plain": [
       "    y           x           \n",
       "1    -1.0150966 -0.62645381 \n",
       "2     2.5624176  0.18364332 \n",
       "3    -2.4078320 -0.83562861 \n",
       "4     6.4288820  1.59528080 \n",
       "5     2.2432515  0.32950777 \n",
       "6     0.3565571 -0.82046838 \n",
       "7     3.9993110  0.48742905 \n",
       "8     4.7812640  0.73832471 \n",
       "9     3.8754480  0.57578135 \n",
       "10    2.6585083 -0.30538839 \n",
       "11    5.3416993  1.51178117 \n",
       "12    2.5855310  0.38984324 \n",
       "13    1.0627399 -0.62124058 \n",
       "14  -15.6311275 -2.21469989 \n",
       "15    4.6137254  1.12493092 \n",
       "16    1.4703269 -0.04493361 \n",
       "17    1.6311721 -0.01619026 \n",
       "18    4.0819658  0.94383621 \n",
       "19    4.5603652  0.82122120 \n",
       "20    3.3563948  0.59390132 \n",
       "21    3.7945024  0.91897737 \n",
       "22    5.3169415  0.78213630 \n",
       "23    2.0037629  0.07456498 \n",
       "24  -12.0415815 -1.98935170 \n",
       "25    3.4941661  0.61982575 \n",
       "26    2.5410412 -0.05612874 \n",
       "27    1.4328861 -0.15579551 \n",
       "28   -6.2037054 -1.47075238 \n",
       "29   -0.3993972 -0.47815006 \n",
       "30    2.7913813  0.41794156 \n",
       "⋮   ⋮           ⋮           \n",
       "71   5.5621562   0.475509529\n",
       "72  -0.7069759  -0.709946431\n",
       "73   4.0300876   0.610726353\n",
       "74  -2.1595022  -0.934097632\n",
       "75  -4.6516008  -1.253633400\n",
       "76   2.7670496   0.291446236\n",
       "77   1.2177012  -0.443291873\n",
       "78   4.0785598   0.001105352\n",
       "79   3.2450952   0.074341324\n",
       "80   0.9893710  -0.589520946\n",
       "81  -1.3526630  -0.568668733\n",
       "82   2.5588514  -0.135178615\n",
       "83   5.1838238   1.178086997\n",
       "84  -8.1275004  -1.523566800\n",
       "85   4.0548530   0.593946188\n",
       "86   2.7476953   0.332950371\n",
       "87   6.1244533   1.063099837\n",
       "88   0.2147656  -0.304183924\n",
       "89   2.5682611   0.370018810\n",
       "90   1.8133728   0.267098791\n",
       "91  -0.1788315  -0.542520031\n",
       "92   5.4477767   1.207867806\n",
       "93   4.1841864   1.160402616\n",
       "94   4.6123720   0.700213650\n",
       "95   5.0322325   1.586833455\n",
       "96   2.4026657   0.558486426\n",
       "97  -3.0585299  -1.276592208\n",
       "98  -1.1584740  -0.573265414\n",
       "99  -3.6798003  -1.224612615\n",
       "100 -0.0784326  -0.473400636"
      ]
     },
     "metadata": {},
     "output_type": "display_data"
    }
   ],
   "source": [
    "data.full <- data.frame(y = y, x = x)\n",
    "data.full"
   ]
  },
  {
   "cell_type": "markdown",
   "metadata": {},
   "source": [
    "Now, let's have a look at our data."
   ]
  },
  {
   "cell_type": "code",
   "execution_count": 15,
   "metadata": {},
   "outputs": [
    {
     "data": {
      "image/png": "[encoded data removed]",
      "text/plain": [
       "plot without title"
      ]
     },
     "metadata": {
      "image/png": {
       "height": 420,
       "width": 420
      },
      "text/plain": {
       "height": 420,
       "width": 420
      }
     },
     "output_type": "display_data"
    }
   ],
   "source": [
    "plot(data.full$x, data.full$y)"
   ]
  },
  {
   "cell_type": "markdown",
   "metadata": {},
   "source": [
    "It seems that the plot shows the relationship between $X$ and $Y$ is linear. However, it is indeed not, as our data were generated from a polynomial function with degree 3. Our goal here is to find the best model contains at most 10 variables, from $X$ to $X^{10}$. The first thing that you need to do is to call the <font color=\"blue\"> regsubsets()</font> function. To see the documentation of this function, simply type"
   ]
  },
  {
   "cell_type": "code",
   "execution_count": 16,
   "metadata": {},
   "outputs": [],
   "source": [
    "help(regsubsets)"
   ]
  },
  {
   "cell_type": "markdown",
   "metadata": {},
   "source": [
    "The above documentation tells us that the first argument is the model formula for the full model, which is\n",
    "$\\hat{Y} = \\beta_0 + \\beta_1 X + \\beta_2 X^2 + \\dots + \\beta_{10} x^{10}$. We should also specify the data and the maximum size of subset to examine, which is 10 here."
   ]
  },
  {
   "cell_type": "code",
   "execution_count": 17,
   "metadata": {},
   "outputs": [],
   "source": [
    "regfit.full <- regsubsets(y ~ x + I(x^2) + I(x^3) + I(x^4) + I(x^5) + I(x^6) + I(x^7) + I(x^8) + I(x^9) + I(x^10), data = data.full, nvmax = 10)"
   ]
  },
  {
   "cell_type": "markdown",
   "metadata": {},
   "source": [
    "The summary() function will output the best set of variables for each model size from 1 to 10."
   ]
  },
  {
   "cell_type": "code",
   "execution_count": 18,
   "metadata": {},
   "outputs": [
    {
     "data": {
      "text/plain": [
       "Subset selection object\n",
       "Call: regsubsets.formula(y ~ x + I(x^2) + I(x^3) + I(x^4) + I(x^5) + \n",
       "    I(x^6) + I(x^7) + I(x^8) + I(x^9) + I(x^10), data = data.full, \n",
       "    nvmax = 10)\n",
       "10 Variables  (and intercept)\n",
       "        Forced in Forced out\n",
       "x           FALSE      FALSE\n",
       "I(x^2)      FALSE      FALSE\n",
       "I(x^3)      FALSE      FALSE\n",
       "I(x^4)      FALSE      FALSE\n",
       "I(x^5)      FALSE      FALSE\n",
       "I(x^6)      FALSE      FALSE\n",
       "I(x^7)      FALSE      FALSE\n",
       "I(x^8)      FALSE      FALSE\n",
       "I(x^9)      FALSE      FALSE\n",
       "I(x^10)     FALSE      FALSE\n",
       "1 subsets of each size up to 10\n",
       "Selection Algorithm: exhaustive\n",
       "          x   I(x^2) I(x^3) I(x^4) I(x^5) I(x^6) I(x^7) I(x^8) I(x^9) I(x^10)\n",
       "1  ( 1 )  \"*\" \" \"    \" \"    \" \"    \" \"    \" \"    \" \"    \" \"    \" \"    \" \"    \n",
       "2  ( 1 )  \"*\" \"*\"    \" \"    \" \"    \" \"    \" \"    \" \"    \" \"    \" \"    \" \"    \n",
       "3  ( 1 )  \"*\" \"*\"    \" \"    \" \"    \"*\"    \" \"    \" \"    \" \"    \" \"    \" \"    \n",
       "4  ( 1 )  \"*\" \"*\"    \" \"    \"*\"    \"*\"    \" \"    \" \"    \" \"    \" \"    \" \"    \n",
       "5  ( 1 )  \"*\" \"*\"    \" \"    \" \"    \"*\"    \" \"    \" \"    \"*\"    \"*\"    \" \"    \n",
       "6  ( 1 )  \"*\" \"*\"    \" \"    \" \"    \"*\"    \"*\"    \" \"    \"*\"    \" \"    \"*\"    \n",
       "7  ( 1 )  \"*\" \"*\"    \" \"    \"*\"    \"*\"    \"*\"    \" \"    \"*\"    \" \"    \"*\"    \n",
       "8  ( 1 )  \"*\" \"*\"    \"*\"    \"*\"    \" \"    \"*\"    \" \"    \"*\"    \"*\"    \"*\"    \n",
       "9  ( 1 )  \"*\" \"*\"    \" \"    \"*\"    \"*\"    \"*\"    \"*\"    \"*\"    \"*\"    \"*\"    \n",
       "10  ( 1 ) \"*\" \"*\"    \"*\"    \"*\"    \"*\"    \"*\"    \"*\"    \"*\"    \"*\"    \"*\"    "
      ]
     },
     "metadata": {},
     "output_type": "display_data"
    }
   ],
   "source": [
    "reg.summary <- summary(regfit.full)\n",
    "reg.summary"
   ]
  },
  {
   "cell_type": "markdown",
   "metadata": {},
   "source": [
    "An asterisk indicates that a variable in the corresponding column is included in the model. For example, the best one-variable model only contains $X$and  the best three-variable model contains $X$, $X^2$ and $X^5$. As discussed in section 6.5.1 in the text book, ISLR, the <font color=\"orange\">nvmax</font> option can be used in order to return as many as variables as are desired, subject to $nvmax <= p$. Besides, what has been show above, the <font color=\"blue\">summary()</font> function also returns:"
   ]
  },
  {
   "cell_type": "code",
   "execution_count": 19,
   "metadata": {},
   "outputs": [
    {
     "data": {
      "text/html": [
       "<style>\n",
       ".list-inline {list-style: none; margin:0; padding: 0}\n",
       ".list-inline>li {display: inline-block}\n",
       ".list-inline>li:not(:last-child)::after {content: \"\\00b7\"; padding: 0 .5ex}\n",
       "</style>\n",
       "<ol class=list-inline><li>'which'</li><li>'rsq'</li><li>'rss'</li><li>'adjr2'</li><li>'cp'</li><li>'bic'</li><li>'outmat'</li><li>'obj'</li></ol>\n"
      ],
      "text/latex": [
       "\\begin{enumerate*}\n",
       "\\item 'which'\n",
       "\\item 'rsq'\n",
       "\\item 'rss'\n",
       "\\item 'adjr2'\n",
       "\\item 'cp'\n",
       "\\item 'bic'\n",
       "\\item 'outmat'\n",
       "\\item 'obj'\n",
       "\\end{enumerate*}\n"
      ],
      "text/markdown": [
       "1. 'which'\n",
       "2. 'rsq'\n",
       "3. 'rss'\n",
       "4. 'adjr2'\n",
       "5. 'cp'\n",
       "6. 'bic'\n",
       "7. 'outmat'\n",
       "8. 'obj'\n",
       "\n",
       "\n"
      ],
      "text/plain": [
       "[1] \"which\"  \"rsq\"    \"rss\"    \"adjr2\"  \"cp\"     \"bic\"    \"outmat\" \"obj\"   "
      ]
     },
     "metadata": {},
     "output_type": "display_data"
    }
   ],
   "source": [
    "names(reg.summary)"
   ]
  },
  {
   "cell_type": "markdown",
   "metadata": {},
   "source": [
    "We can examine these outputs to identify the best overall model. First, let's find the best overall model using Mallow's CP."
   ]
  },
  {
   "cell_type": "code",
   "execution_count": 20,
   "metadata": {},
   "outputs": [
    {
     "data": {
      "text/html": [
       "3"
      ],
      "text/latex": [
       "3"
      ],
      "text/markdown": [
       "3"
      ],
      "text/plain": [
       "[1] 3"
      ]
     },
     "metadata": {},
     "output_type": "display_data"
    },
    {
     "data": {
      "image/png": "[encoded data removed]",
      "text/plain": [
       "plot without title"
      ]
     },
     "metadata": {
      "image/png": {
       "height": 420,
       "width": 420
      },
      "text/plain": {
       "height": 420,
       "width": 420
      }
     },
     "output_type": "display_data"
    }
   ],
   "source": [
    "plot(reg.summary$cp, xlab = \"Number of variables\", ylab = \"C_p\", type = \"l\")\n",
    "mincp = which.min(reg.summary$cp)\n",
    "points(mincp, reg.summary$cp[mincp], col = \"red\", cex = 2, pch = 20)\n",
    "mincp"
   ]
  },
  {
   "cell_type": "markdown",
   "metadata": {},
   "source": [
    "The plot suggests that the best overall model is a model with 3 variables, what are the three variables and their coefficients?"
   ]
  },
  {
   "cell_type": "code",
   "execution_count": 21,
   "metadata": {},
   "outputs": [
    {
     "data": {
      "text/html": [
       "<style>\n",
       ".dl-inline {width: auto; margin:0; padding: 0}\n",
       ".dl-inline>dt, .dl-inline>dd {float: none; width: auto; display: inline-block}\n",
       ".dl-inline>dt::after {content: \":\\0020\"; padding-right: .5ex}\n",
       ".dl-inline>dt:not(:first-of-type) {padding-left: .5ex}\n",
       "</style><dl class=dl-inline><dt>(Intercept)</dt><dd>2.07219471834252</dd><dt>x</dt><dd>3.44514719790681</dd><dt>I(x^2)</dt><dd>-1.15676235841822</dd><dt>I(x^5)</dt><dd>0.0902257706116844</dd></dl>\n"
      ],
      "text/latex": [
       "\\begin{description*}\n",
       "\\item[(Intercept)] 2.07219471834252\n",
       "\\item[x] 3.44514719790681\n",
       "\\item[I(x\\textbackslash{}textasciicircum\\{\\}2)] -1.15676235841822\n",
       "\\item[I(x\\textbackslash{}textasciicircum\\{\\}5)] 0.0902257706116844\n",
       "\\end{description*}\n"
      ],
      "text/markdown": [
       "(Intercept)\n",
       ":   2.07219471834252x\n",
       ":   3.44514719790681I(x^2)\n",
       ":   -1.15676235841822I(x^5)\n",
       ":   0.0902257706116844\n",
       "\n"
      ],
      "text/plain": [
       "(Intercept)           x      I(x^2)      I(x^5) \n",
       " 2.07219472  3.44514720 -1.15676236  0.09022577 "
      ]
     },
     "metadata": {},
     "output_type": "display_data"
    }
   ],
   "source": [
    "coef(regfit.full, mincp)"
   ]
  },
  {
   "cell_type": "markdown",
   "metadata": {},
   "source": [
    "Similarly, we can use some other criteria, such as BIC and RSS. Let's try BIC first."
   ]
  },
  {
   "cell_type": "code",
   "execution_count": 22,
   "metadata": {},
   "outputs": [
    {
     "data": {
      "text/html": [
       "<style>\n",
       ".dl-inline {width: auto; margin:0; padding: 0}\n",
       ".dl-inline>dt, .dl-inline>dd {float: none; width: auto; display: inline-block}\n",
       ".dl-inline>dt::after {content: \":\\0020\"; padding-right: .5ex}\n",
       ".dl-inline>dt:not(:first-of-type) {padding-left: .5ex}\n",
       "</style><dl class=dl-inline><dt>(Intercept)</dt><dd>2.07219471834252</dd><dt>x</dt><dd>3.44514719790681</dd><dt>I(x^2)</dt><dd>-1.15676235841822</dd><dt>I(x^5)</dt><dd>0.0902257706116844</dd></dl>\n"
      ],
      "text/latex": [
       "\\begin{description*}\n",
       "\\item[(Intercept)] 2.07219471834252\n",
       "\\item[x] 3.44514719790681\n",
       "\\item[I(x\\textbackslash{}textasciicircum\\{\\}2)] -1.15676235841822\n",
       "\\item[I(x\\textbackslash{}textasciicircum\\{\\}5)] 0.0902257706116844\n",
       "\\end{description*}\n"
      ],
      "text/markdown": [
       "(Intercept)\n",
       ":   2.07219471834252x\n",
       ":   3.44514719790681I(x^2)\n",
       ":   -1.15676235841822I(x^5)\n",
       ":   0.0902257706116844\n",
       "\n"
      ],
      "text/plain": [
       "(Intercept)           x      I(x^2)      I(x^5) \n",
       " 2.07219472  3.44514720 -1.15676236  0.09022577 "
      ]
     },
     "metadata": {},
     "output_type": "display_data"
    },
    {
     "data": {
      "image/png": "[encoded data removed]",
      "text/plain": [
       "plot without title"
      ]
     },
     "metadata": {
      "image/png": {
       "height": 420,
       "width": 420
      },
      "text/plain": {
       "height": 420,
       "width": 420
      }
     },
     "output_type": "display_data"
    }
   ],
   "source": [
    "plot(reg.summary$bic, xlab = \"Number of variables\", ylab = \"BIC\", type = \"l\")\n",
    "minbic = which.min(reg.summary$bic)\n",
    "points(minbic, reg.summary$bic[minbic], col = \"red\", cex = 2, pch = 20)\n",
    "coef(regfit.full, minbic)"
   ]
  },
  {
   "cell_type": "markdown",
   "metadata": {},
   "source": [
    "The BIC gives us the same model as did CP. How about using adjusted $R^2$,"
   ]
  },
  {
   "cell_type": "code",
   "execution_count": 23,
   "metadata": {},
   "outputs": [
    {
     "data": {
      "text/html": [
       "<style>\n",
       ".dl-inline {width: auto; margin:0; padding: 0}\n",
       ".dl-inline>dt, .dl-inline>dd {float: none; width: auto; display: inline-block}\n",
       ".dl-inline>dt::after {content: \":\\0020\"; padding-right: .5ex}\n",
       ".dl-inline>dt:not(:first-of-type) {padding-left: .5ex}\n",
       "</style><dl class=dl-inline><dt>(Intercept)</dt><dd>2.07219471834252</dd><dt>x</dt><dd>3.44514719790681</dd><dt>I(x^2)</dt><dd>-1.15676235841822</dd><dt>I(x^5)</dt><dd>0.0902257706116844</dd></dl>\n"
      ],
      "text/latex": [
       "\\begin{description*}\n",
       "\\item[(Intercept)] 2.07219471834252\n",
       "\\item[x] 3.44514719790681\n",
       "\\item[I(x\\textbackslash{}textasciicircum\\{\\}2)] -1.15676235841822\n",
       "\\item[I(x\\textbackslash{}textasciicircum\\{\\}5)] 0.0902257706116844\n",
       "\\end{description*}\n"
      ],
      "text/markdown": [
       "(Intercept)\n",
       ":   2.07219471834252x\n",
       ":   3.44514719790681I(x^2)\n",
       ":   -1.15676235841822I(x^5)\n",
       ":   0.0902257706116844\n",
       "\n"
      ],
      "text/plain": [
       "(Intercept)           x      I(x^2)      I(x^5) \n",
       " 2.07219472  3.44514720 -1.15676236  0.09022577 "
      ]
     },
     "metadata": {},
     "output_type": "display_data"
    },
    {
     "data": {
      "image/png": "[encoded data removed]",
      "text/plain": [
       "plot without title"
      ]
     },
     "metadata": {
      "image/png": {
       "height": 420,
       "width": 420
      },
      "text/plain": {
       "height": 420,
       "width": 420
      }
     },
     "output_type": "display_data"
    }
   ],
   "source": [
    "plot(reg.summary$adjr2, xlab = \"Number of variables\", ylab = \"Adjusted R^2\", type = \"l\")\n",
    "max_adjr2 = which.max(reg.summary$adjr2)\n",
    "points(max_adjr2, reg.summary$adjr2[max_adjr2 ], col = \"red\", cex = 2, pch = 20)\n",
    "coef(regfit.full, max_adjr2)"
   ]
  },
  {
   "cell_type": "markdown",
   "metadata": {},
   "source": [
    "It is interesting that the three criteria gave us the the same overall best model. We can further have a look at the RSS plot."
   ]
  },
  {
   "cell_type": "code",
   "execution_count": 24,
   "metadata": {},
   "outputs": [
    {
     "data": {
      "image/png": "[encoded data removed]",
      "text/plain": [
       "plot without title"
      ]
     },
     "metadata": {
      "image/png": {
       "height": 420,
       "width": 420
      },
      "text/plain": {
       "height": 420,
       "width": 420
      }
     },
     "output_type": "display_data"
    }
   ],
   "source": [
    "plot(reg.summary$rss, xlab = \"Number of variables\", ylab = \"RSS\", type = \"l\")"
   ]
  },
  {
   "cell_type": "markdown",
   "metadata": {},
   "source": [
    "What we observed is that RSS decrease monotonicity as the number variable increases."
   ]
  },
  {
   "cell_type": "markdown",
   "metadata": {},
   "source": [
    "## 1.3 Perform stepwise selection\n",
    "\n",
    "One drawback of best subset selection is its time complexity. In general, the number of models that you need to fit is $2^p$, which is infeasible if $p$ is large, for example, if $p =10$. It also easily results in a model that fits the training data perfectly but performing badly on unseen data. In this section, we are going to explore alternative methods, known as stepwise selection, which explore a far more restricted set of models. There are three stepwise selection methods:\n",
    "* <b>Forward stepwise selection</b>: Starts with one-variable models, gradually add one variable, end with a model including all the specified variables.\n",
    "* <b>Backward stepwise selection</b>: Starts with a full model, gradually exclude one variable, end with one-variable models.\n",
    "* <b>Hybrid selection</b>: the combination of Forward stepwise selection and Backward stepwise selection.\n",
    "\n",
    "We begin with forward stepwise selection. It is very easy to implement the forward stepwise selection method with <font color=\"blue\">regsubsets()</font>: "
   ]
  },
  {
   "cell_type": "code",
   "execution_count": 25,
   "metadata": {},
   "outputs": [],
   "source": [
    "regfit.fwd <- regsubsets(y ~ x + I(x^2) + I(x^3) + I(x^4) + I(x^5) + I(x^6) + I(x^7) + I(x^8) + I(x^9) + I(x^10), data = data.full, nvmax = 10, method = \"forward\")"
   ]
  },
  {
   "cell_type": "code",
   "execution_count": 26,
   "metadata": {
    "scrolled": false
   },
   "outputs": [
    {
     "data": {
      "text/plain": [
       "Subset selection object\n",
       "Call: regsubsets.formula(y ~ x + I(x^2) + I(x^3) + I(x^4) + I(x^5) + \n",
       "    I(x^6) + I(x^7) + I(x^8) + I(x^9) + I(x^10), data = data.full, \n",
       "    nvmax = 10, method = \"forward\")\n",
       "10 Variables  (and intercept)\n",
       "        Forced in Forced out\n",
       "x           FALSE      FALSE\n",
       "I(x^2)      FALSE      FALSE\n",
       "I(x^3)      FALSE      FALSE\n",
       "I(x^4)      FALSE      FALSE\n",
       "I(x^5)      FALSE      FALSE\n",
       "I(x^6)      FALSE      FALSE\n",
       "I(x^7)      FALSE      FALSE\n",
       "I(x^8)      FALSE      FALSE\n",
       "I(x^9)      FALSE      FALSE\n",
       "I(x^10)     FALSE      FALSE\n",
       "1 subsets of each size up to 10\n",
       "Selection Algorithm: forward\n",
       "          x   I(x^2) I(x^3) I(x^4) I(x^5) I(x^6) I(x^7) I(x^8) I(x^9) I(x^10)\n",
       "1  ( 1 )  \"*\" \" \"    \" \"    \" \"    \" \"    \" \"    \" \"    \" \"    \" \"    \" \"    \n",
       "2  ( 1 )  \"*\" \"*\"    \" \"    \" \"    \" \"    \" \"    \" \"    \" \"    \" \"    \" \"    \n",
       "3  ( 1 )  \"*\" \"*\"    \" \"    \" \"    \"*\"    \" \"    \" \"    \" \"    \" \"    \" \"    \n",
       "4  ( 1 )  \"*\" \"*\"    \" \"    \"*\"    \"*\"    \" \"    \" \"    \" \"    \" \"    \" \"    \n",
       "5  ( 1 )  \"*\" \"*\"    \" \"    \"*\"    \"*\"    \" \"    \" \"    \" \"    \"*\"    \" \"    \n",
       "6  ( 1 )  \"*\" \"*\"    \" \"    \"*\"    \"*\"    \"*\"    \" \"    \" \"    \"*\"    \" \"    \n",
       "7  ( 1 )  \"*\" \"*\"    \" \"    \"*\"    \"*\"    \"*\"    \" \"    \" \"    \"*\"    \"*\"    \n",
       "8  ( 1 )  \"*\" \"*\"    \" \"    \"*\"    \"*\"    \"*\"    \" \"    \"*\"    \"*\"    \"*\"    \n",
       "9  ( 1 )  \"*\" \"*\"    \" \"    \"*\"    \"*\"    \"*\"    \"*\"    \"*\"    \"*\"    \"*\"    \n",
       "10  ( 1 ) \"*\" \"*\"    \"*\"    \"*\"    \"*\"    \"*\"    \"*\"    \"*\"    \"*\"    \"*\"    "
      ]
     },
     "metadata": {},
     "output_type": "display_data"
    },
    {
     "data": {
      "text/plain": [
       "Subset selection object\n",
       "Call: regsubsets.formula(y ~ x + I(x^2) + I(x^3) + I(x^4) + I(x^5) + \n",
       "    I(x^6) + I(x^7) + I(x^8) + I(x^9) + I(x^10), data = data.full, \n",
       "    nvmax = 10)\n",
       "10 Variables  (and intercept)\n",
       "        Forced in Forced out\n",
       "x           FALSE      FALSE\n",
       "I(x^2)      FALSE      FALSE\n",
       "I(x^3)      FALSE      FALSE\n",
       "I(x^4)      FALSE      FALSE\n",
       "I(x^5)      FALSE      FALSE\n",
       "I(x^6)      FALSE      FALSE\n",
       "I(x^7)      FALSE      FALSE\n",
       "I(x^8)      FALSE      FALSE\n",
       "I(x^9)      FALSE      FALSE\n",
       "I(x^10)     FALSE      FALSE\n",
       "1 subsets of each size up to 10\n",
       "Selection Algorithm: exhaustive\n",
       "          x   I(x^2) I(x^3) I(x^4) I(x^5) I(x^6) I(x^7) I(x^8) I(x^9) I(x^10)\n",
       "1  ( 1 )  \"*\" \" \"    \" \"    \" \"    \" \"    \" \"    \" \"    \" \"    \" \"    \" \"    \n",
       "2  ( 1 )  \"*\" \"*\"    \" \"    \" \"    \" \"    \" \"    \" \"    \" \"    \" \"    \" \"    \n",
       "3  ( 1 )  \"*\" \"*\"    \" \"    \" \"    \"*\"    \" \"    \" \"    \" \"    \" \"    \" \"    \n",
       "4  ( 1 )  \"*\" \"*\"    \" \"    \"*\"    \"*\"    \" \"    \" \"    \" \"    \" \"    \" \"    \n",
       "5  ( 1 )  \"*\" \"*\"    \" \"    \" \"    \"*\"    \" \"    \" \"    \"*\"    \"*\"    \" \"    \n",
       "6  ( 1 )  \"*\" \"*\"    \" \"    \" \"    \"*\"    \"*\"    \" \"    \"*\"    \" \"    \"*\"    \n",
       "7  ( 1 )  \"*\" \"*\"    \" \"    \"*\"    \"*\"    \"*\"    \" \"    \"*\"    \" \"    \"*\"    \n",
       "8  ( 1 )  \"*\" \"*\"    \"*\"    \"*\"    \" \"    \"*\"    \" \"    \"*\"    \"*\"    \"*\"    \n",
       "9  ( 1 )  \"*\" \"*\"    \" \"    \"*\"    \"*\"    \"*\"    \"*\"    \"*\"    \"*\"    \"*\"    \n",
       "10  ( 1 ) \"*\" \"*\"    \"*\"    \"*\"    \"*\"    \"*\"    \"*\"    \"*\"    \"*\"    \"*\"    "
      ]
     },
     "metadata": {},
     "output_type": "display_data"
    }
   ],
   "source": [
    "reg.summary.fwd <- summary(regfit.fwd)\n",
    "reg.summary.fwd \n",
    "reg.summary"
   ]
  },
  {
   "cell_type": "markdown",
   "metadata": {},
   "source": [
    "Have you observed the differences between the above output and that generated by the best subset selection? For example, is the five-variable model generated by the forward stepwise selection the same as the one generated by the best subset selection? \n",
    "\n",
    "The answer is No. the five-variable model generated by the forward stepwise selection contains \n",
    "\n",
    "$X$, $X^2$, $X^4$, $X^5$ and $X^9$. \n",
    "\n",
    "However, the one generated by the best subset selection contains \n",
    "\n",
    "$X$, $X^2$, $X^5$, $X^8$ and $X^9$. \n",
    "\n",
    "You can also find that the 6,7,8-variable models are also different.\n",
    "\n",
    "Now, what is the overall best model? Similarly, we can generate a set of plots to identify the best overall model as follows."
   ]
  },
  {
   "cell_type": "code",
   "execution_count": 27,
   "metadata": {},
   "outputs": [
    {
     "data": {
      "image/png": "[encoded data removed]",
      "text/plain": [
       "plot without title"
      ]
     },
     "metadata": {
      "image/png": {
       "height": 420,
       "width": 420
      },
      "text/plain": {
       "height": 420,
       "width": 420
      }
     },
     "output_type": "display_data"
    }
   ],
   "source": [
    "par(mfrow = c(2, 2))\n",
    "plot(reg.summary.fwd$cp, xlab = \"Number of variables\", ylab = \"C_p\", type = \"l\")\n",
    "points(which.min(reg.summary.fwd$cp), reg.summary.fwd$cp[which.min(reg.summary.fwd$cp)], col = \"red\", cex = 2, pch = 20)\n",
    "plot(reg.summary.fwd$bic, xlab = \"Number of variables\", ylab = \"BIC\", type = \"l\")\n",
    "points(which.min(reg.summary.fwd$bic), reg.summary.fwd$bic[which.min(reg.summary.fwd$bic)], col = \"red\", cex = 2, pch = 20)\n",
    "plot(reg.summary.fwd$adjr2, xlab = \"Number of variables\", ylab = \"Adjusted R^2\", type = \"l\")\n",
    "points(which.max(reg.summary.fwd$adjr2), reg.summary.fwd$adjr2[which.max(reg.summary.fwd$adjr2)], col = \"red\", cex = 2, pch = 20)\n",
    "plot(reg.summary.fwd$rss, xlab = \"Number of variables\", ylab = \"RSS\", type = \"l\")\n",
    "mtext(\"Plots of C_p, BIC, adjusted R^2 and RSS for forward stepwise selection\", side = 3, line = -2, outer = TRUE)"
   ]
  },
  {
   "cell_type": "markdown",
   "metadata": {},
   "source": [
    "The above plots show that the best overall model is still the 3-variable model. How about the coefficients?"
   ]
  },
  {
   "cell_type": "code",
   "execution_count": 28,
   "metadata": {},
   "outputs": [
    {
     "data": {
      "text/html": [
       "<style>\n",
       ".dl-inline {width: auto; margin:0; padding: 0}\n",
       ".dl-inline>dt, .dl-inline>dd {float: none; width: auto; display: inline-block}\n",
       ".dl-inline>dt::after {content: \":\\0020\"; padding-right: .5ex}\n",
       ".dl-inline>dt:not(:first-of-type) {padding-left: .5ex}\n",
       "</style><dl class=dl-inline><dt>(Intercept)</dt><dd>2.07219471834252</dd><dt>x</dt><dd>3.44514719790681</dd><dt>I(x^2)</dt><dd>-1.15676235841822</dd><dt>I(x^5)</dt><dd>0.0902257706116845</dd></dl>\n"
      ],
      "text/latex": [
       "\\begin{description*}\n",
       "\\item[(Intercept)] 2.07219471834252\n",
       "\\item[x] 3.44514719790681\n",
       "\\item[I(x\\textbackslash{}textasciicircum\\{\\}2)] -1.15676235841822\n",
       "\\item[I(x\\textbackslash{}textasciicircum\\{\\}5)] 0.0902257706116845\n",
       "\\end{description*}\n"
      ],
      "text/markdown": [
       "(Intercept)\n",
       ":   2.07219471834252x\n",
       ":   3.44514719790681I(x^2)\n",
       ":   -1.15676235841822I(x^5)\n",
       ":   0.0902257706116845\n",
       "\n"
      ],
      "text/plain": [
       "(Intercept)           x      I(x^2)      I(x^5) \n",
       " 2.07219472  3.44514720 -1.15676236  0.09022577 "
      ]
     },
     "metadata": {},
     "output_type": "display_data"
    }
   ],
   "source": [
    "coef(regfit.fwd, 3)"
   ]
  },
  {
   "cell_type": "markdown",
   "metadata": {},
   "source": [
    "You will find the estimated coefficients are the same.\n",
    "\n",
    "Now, let's have a look at the backward selection method. To implement it, we just simply, change the value of <font color=\"orange\">method</font> to <b>backward</b>."
   ]
  },
  {
   "cell_type": "code",
   "execution_count": 29,
   "metadata": {},
   "outputs": [
    {
     "data": {
      "text/plain": [
       "Subset selection object\n",
       "Call: regsubsets.formula(y ~ x + I(x^2) + I(x^3) + I(x^4) + I(x^5) + \n",
       "    I(x^6) + I(x^7) + I(x^8) + I(x^9) + I(x^10), data = data.full, \n",
       "    nvmax = 10, method = \"backward\")\n",
       "10 Variables  (and intercept)\n",
       "        Forced in Forced out\n",
       "x           FALSE      FALSE\n",
       "I(x^2)      FALSE      FALSE\n",
       "I(x^3)      FALSE      FALSE\n",
       "I(x^4)      FALSE      FALSE\n",
       "I(x^5)      FALSE      FALSE\n",
       "I(x^6)      FALSE      FALSE\n",
       "I(x^7)      FALSE      FALSE\n",
       "I(x^8)      FALSE      FALSE\n",
       "I(x^9)      FALSE      FALSE\n",
       "I(x^10)     FALSE      FALSE\n",
       "1 subsets of each size up to 10\n",
       "Selection Algorithm: backward\n",
       "          x   I(x^2) I(x^3) I(x^4) I(x^5) I(x^6) I(x^7) I(x^8) I(x^9) I(x^10)\n",
       "1  ( 1 )  \"*\" \" \"    \" \"    \" \"    \" \"    \" \"    \" \"    \" \"    \" \"    \" \"    \n",
       "2  ( 1 )  \"*\" \"*\"    \" \"    \" \"    \" \"    \" \"    \" \"    \" \"    \" \"    \" \"    \n",
       "3  ( 1 )  \"*\" \"*\"    \" \"    \" \"    \"*\"    \" \"    \" \"    \" \"    \" \"    \" \"    \n",
       "4  ( 1 )  \"*\" \"*\"    \" \"    \" \"    \"*\"    \" \"    \" \"    \"*\"    \" \"    \" \"    \n",
       "5  ( 1 )  \"*\" \"*\"    \" \"    \" \"    \"*\"    \" \"    \" \"    \"*\"    \" \"    \"*\"    \n",
       "6  ( 1 )  \"*\" \"*\"    \" \"    \" \"    \"*\"    \"*\"    \" \"    \"*\"    \" \"    \"*\"    \n",
       "7  ( 1 )  \"*\" \"*\"    \" \"    \"*\"    \"*\"    \"*\"    \" \"    \"*\"    \" \"    \"*\"    \n",
       "8  ( 1 )  \"*\" \"*\"    \" \"    \"*\"    \"*\"    \"*\"    \" \"    \"*\"    \"*\"    \"*\"    \n",
       "9  ( 1 )  \"*\" \"*\"    \" \"    \"*\"    \"*\"    \"*\"    \"*\"    \"*\"    \"*\"    \"*\"    \n",
       "10  ( 1 ) \"*\" \"*\"    \"*\"    \"*\"    \"*\"    \"*\"    \"*\"    \"*\"    \"*\"    \"*\"    "
      ]
     },
     "metadata": {},
     "output_type": "display_data"
    }
   ],
   "source": [
    "regfit.bwd <- regsubsets(y ~ x + I(x^2) + I(x^3) + I(x^4) + I(x^5) + I(x^6) + I(x^7) + I(x^8) + I(x^9) + I(x^10), data = data.full, nvmax = 10, method = \"backward\")\n",
    "reg.summary.bwd <- summary(regfit.bwd)\n",
    "reg.summary.bwd"
   ]
  },
  {
   "cell_type": "markdown",
   "metadata": {},
   "source": [
    "Can you identify the differences between the models selected by the backward selection method and those selected by the forward selection method?\n",
    "\n",
    "Similarly, we can find the best overall model given by the backward selection method."
   ]
  },
  {
   "cell_type": "code",
   "execution_count": 30,
   "metadata": {},
   "outputs": [
    {
     "data": {
      "image/png": "[encoded data removed]",
      "text/plain": [
       "plot without title"
      ]
     },
     "metadata": {
      "image/png": {
       "height": 420,
       "width": 420
      },
      "text/plain": {
       "height": 420,
       "width": 420
      }
     },
     "output_type": "display_data"
    }
   ],
   "source": [
    "par(mfrow = c(2, 2))\n",
    "plot(reg.summary.bwd$cp, xlab = \"Number of variables\", ylab = \"C_p\", type = \"l\")\n",
    "points(which.min(reg.summary.bwd$cp), reg.summary.bwd$cp[which.min(reg.summary.bwd$cp)], col = \"red\", cex = 2, pch = 20)\n",
    "plot(reg.summary.bwd$bic, xlab = \"Number of variables\", ylab = \"BIC\", type = \"l\")\n",
    "points(which.min(reg.summary.bwd$bic), reg.summary.bwd$bic[which.min(reg.summary.bwd$bic)], col = \"red\", cex = 2, pch = 20)\n",
    "plot(reg.summary.bwd$adjr2, xlab = \"Number of variables\", ylab = \"Adjusted R^2\", type = \"l\")\n",
    "points(which.max(reg.summary.bwd$adjr2), reg.summary.bwd$adjr2[which.max(reg.summary.bwd$adjr2)], col = \"red\", cex = 2, pch = 20)\n",
    "plot(reg.summary.bwd$rss, xlab = \"Number of variables\", ylab = \"Adjusted R^2\", type = \"l\")\n",
    "mtext(\"Plots of C_p, BIC, adjusted R^2 and RSS for backward stepwise selection\", side = 3, line = -2, outer = TRUE)"
   ]
  },
  {
   "cell_type": "markdown",
   "metadata": {},
   "source": [
    "The best overall model is still the three-variable model with exactly the same variables."
   ]
  },
  {
   "cell_type": "markdown",
   "metadata": {},
   "source": [
    "## 1.4 Perform Lasso\n",
    "What we have done so far is about selecting the best subset of variables used in the model, which is often known as feature selection. As discussed in the lecture, the Lasso is one approach that we often used in machine learning to perform feature selection automatically. Depending on the shrinkage parameter, Lasso regularizes the coefficient in a way such that the estimated coefficients can be shrunk toward zero. The R library that we are going to use is the <font color=\"orange\">glmnet</font>. It's document table can be found <a href=\"https://cran.r-project.org/web/packages/glmnet/glmnet.pdf\">here</a>. Remember that it is always a good idea to refer to the library documentation to check the usage of a given function. The main function that we are going to use is <font color=\"blue\">glmnet()</font>."
   ]
  },
  {
   "cell_type": "code",
   "execution_count": 36,
   "metadata": {},
   "outputs": [
    {
     "name": "stderr",
     "output_type": "stream",
     "text": [
      "Loading required package: Matrix\n",
      "\n",
      "Loaded glmnet 3.0-2\n",
      "\n",
      "\n"
     ]
    }
   ],
   "source": [
    "library(glmnet)"
   ]
  },
  {
   "cell_type": "code",
   "execution_count": null,
   "metadata": {},
   "outputs": [],
   "source": [
    "# help(glmnet)"
   ]
  },
  {
   "cell_type": "markdown",
   "metadata": {},
   "source": [
    "Now we are ready to fit a lasso model to the simulated data, again using $X$,$X_2$, $\\dots$, $X_{10}$ as predictors. Use cross-validation to select the optimal value of $\\lambda$. Create plots of the cross-validation error as a function of $\\lambda$. Report the resulting coefficient estimates, and discuss the results obtained.\n"
   ]
  },
  {
   "cell_type": "code",
   "execution_count": 37,
   "metadata": {},
   "outputs": [],
   "source": [
    "xmat <- model.matrix(y ~ x + I(x^2) + I(x^3) + I(x^4) + I(x^5) + I(x^6) + I(x^7) + I(x^8) + I(x^9) + I(x^10), data = data.full)"
   ]
  },
  {
   "cell_type": "code",
   "execution_count": 38,
   "metadata": {},
   "outputs": [],
   "source": [
    "xmat <- xmat[, -1]"
   ]
  },
  {
   "cell_type": "markdown",
   "metadata": {},
   "source": [
    "As discussed in section 6.6, the <a href=\"https://stat.ethz.ch/R-manual/R-devel/library/stats/html/model.matrix.html\">model.matrix</a> function produces a data matrix corresponding to the 10 variables and also transforms any qualitative variables into dummy variables. In this case, we don't have qualitative variables. You should note that <font color=\"blue\">glmnet()</font> can only take numerical, quantitative inputs.\n",
    "\n",
    "Now, we fit a lasso model with cross-validation using the <font color=\"blue\">cv.glmnet()</font> function"
   ]
  },
  {
   "cell_type": "code",
   "execution_count": 39,
   "metadata": {},
   "outputs": [],
   "source": [
    "cv.lasso <- cv.glmnet(xmat, y, alpha = 1)"
   ]
  },
  {
   "cell_type": "markdown",
   "metadata": {},
   "source": [
    "If <font color=\"orange\">alpha</font> is set to 0, a Ridge regression model is going to be fit. The default number of folds used is 10. You can also set the number of folds by specifying the value of <font color=\"orange\">nfolds</font>. To see more detailed usage of cv.glmnet, simply type\n",
    "```R\n",
    "help(cv.glmnet)\n",
    "```\n",
    "\n",
    "We can plot the MSE as a function of the logarithm of $\\lambda$ with error bars."
   ]
  },
  {
   "cell_type": "code",
   "execution_count": 40,
   "metadata": {},
   "outputs": [
    {
     "data": {
      "image/png": "[encoded data removed]",
      "text/plain": [
       "plot without title"
      ]
     },
     "metadata": {
      "image/png": {
       "height": 420,
       "width": 420
      },
      "text/plain": {
       "height": 420,
       "width": 420
      }
     },
     "output_type": "display_data"
    }
   ],
   "source": [
    "plot(cv.lasso)"
   ]
  },
  {
   "cell_type": "markdown",
   "metadata": {},
   "source": [
    "What is the cross-validated lambda value?"
   ]
  },
  {
   "cell_type": "code",
   "execution_count": 41,
   "metadata": {},
   "outputs": [
    {
     "data": {
      "text/html": [
       "0.03458423828196"
      ],
      "text/latex": [
       "0.03458423828196"
      ],
      "text/markdown": [
       "0.03458423828196"
      ],
      "text/plain": [
       "[1] 0.03458424"
      ]
     },
     "metadata": {},
     "output_type": "display_data"
    }
   ],
   "source": [
    "bestlam <- cv.lasso$lambda.min\n",
    "bestlam"
   ]
  },
  {
   "cell_type": "markdown",
   "metadata": {},
   "source": [
    "Now we refit our lasso model using $\\lambda$ chosen by cross-validation."
   ]
  },
  {
   "cell_type": "code",
   "execution_count": 42,
   "metadata": {},
   "outputs": [
    {
     "data": {
      "text/html": [
       "<style>\n",
       ".dl-inline {width: auto; margin:0; padding: 0}\n",
       ".dl-inline>dt, .dl-inline>dd {float: none; width: auto; display: inline-block}\n",
       ".dl-inline>dt::after {content: \":\\0020\"; padding-right: .5ex}\n",
       ".dl-inline>dt:not(:first-of-type) {padding-left: .5ex}\n",
       "</style><dl class=dl-inline><dt>(Intercept)</dt><dd>2.04367893650363</dd><dt>x</dt><dd>3.29157839784978</dd><dt>I(x^2)</dt><dd>-1.1106588988296</dd><dt>I(x^3)</dt><dd>0.1344156183771</dd><dt>I(x^4)</dt><dd>0</dd><dt>I(x^5)</dt><dd>0.0652675083119903</dd><dt>I(x^6)</dt><dd>0</dd><dt>I(x^7)</dt><dd>0</dd><dt>I(x^8)</dt><dd>0</dd><dt>I(x^9)</dt><dd>0</dd><dt>I(x^10)</dt><dd>0</dd></dl>\n"
      ],
      "text/latex": [
       "\\begin{description*}\n",
       "\\item[(Intercept)] 2.04367893650363\n",
       "\\item[x] 3.29157839784978\n",
       "\\item[I(x\\textbackslash{}textasciicircum\\{\\}2)] -1.1106588988296\n",
       "\\item[I(x\\textbackslash{}textasciicircum\\{\\}3)] 0.1344156183771\n",
       "\\item[I(x\\textbackslash{}textasciicircum\\{\\}4)] 0\n",
       "\\item[I(x\\textbackslash{}textasciicircum\\{\\}5)] 0.0652675083119903\n",
       "\\item[I(x\\textbackslash{}textasciicircum\\{\\}6)] 0\n",
       "\\item[I(x\\textbackslash{}textasciicircum\\{\\}7)] 0\n",
       "\\item[I(x\\textbackslash{}textasciicircum\\{\\}8)] 0\n",
       "\\item[I(x\\textbackslash{}textasciicircum\\{\\}9)] 0\n",
       "\\item[I(x\\textbackslash{}textasciicircum\\{\\}10)] 0\n",
       "\\end{description*}\n"
      ],
      "text/markdown": [
       "(Intercept)\n",
       ":   2.04367893650363x\n",
       ":   3.29157839784978I(x^2)\n",
       ":   -1.1106588988296I(x^3)\n",
       ":   0.1344156183771I(x^4)\n",
       ":   0I(x^5)\n",
       ":   0.0652675083119903I(x^6)\n",
       ":   0I(x^7)\n",
       ":   0I(x^8)\n",
       ":   0I(x^9)\n",
       ":   0I(x^10)\n",
       ":   0\n",
       "\n"
      ],
      "text/plain": [
       "(Intercept)           x      I(x^2)      I(x^3)      I(x^4)      I(x^5) \n",
       " 2.04367894  3.29157840 -1.11065890  0.13441562  0.00000000  0.06526751 \n",
       "     I(x^6)      I(x^7)      I(x^8)      I(x^9)     I(x^10) \n",
       " 0.00000000  0.00000000  0.00000000  0.00000000  0.00000000 "
      ]
     },
     "metadata": {},
     "output_type": "display_data"
    }
   ],
   "source": [
    "fit.lasso <- glmnet(xmat, y, alpha = 1)\n",
    "predict(fit.lasso, s = bestlam, type = \"coefficients\")[1:11, ]"
   ]
  },
  {
   "cell_type": "markdown",
   "metadata": {},
   "source": [
    "The above result shows that 6 of the 10 coefficient estimates are exactly zero. So the lasso model with $\\lambda$ chosen by cross-validation contains only four variable, besides the intercept. "
   ]
  },
  {
   "cell_type": "markdown",
   "metadata": {
    "collapsed": true
   },
   "source": [
    "## 2. Lasso v.s. Ridge Regression\n",
    "\n",
    "In machine learning, we also call Lasso as $L_1$ regularizition and Ridge as $L_2$ regularization. The difference between the two regularization methods lies in how they penalize the estimated parameters of your model. The Ridge regularization will shrink all the estimated parameters towards zero, but never equal to zero. In contrast, the Lasso regularization will force some of the estimated parameters to be zero. Besides the two regularization methods, there are other regularization methods, such as\n",
    "* <a href=\"http://statweb.stanford.edu/~tibs/ftp/sparse-grlasso.pdf\">group lasso</a>, which regularize the estimated parameters at a group level. Note you don't need to understand it, we just would like to let you be aware of the other regularization methods that are also used in data analysis. \n",
    "\n",
    "In this exercise, you are going to study how the Lasso and Ridge regularization \n",
    "affect the performance of linear regression. We will develop a linear model to predict the number of applications received using the other variables in the <font color=\"orange\">College</font> data set. We begin with splitting the data set into a training set and a testing set.\n",
    "\n"
   ]
  },
  {
   "cell_type": "code",
   "execution_count": 43,
   "metadata": {},
   "outputs": [
    {
     "data": {
      "text/html": [
       "<style>\n",
       ".list-inline {list-style: none; margin:0; padding: 0}\n",
       ".list-inline>li {display: inline-block}\n",
       ".list-inline>li:not(:last-child)::after {content: \"\\00b7\"; padding: 0 .5ex}\n",
       "</style>\n",
       "<ol class=list-inline><li>777</li><li>18</li></ol>\n"
      ],
      "text/latex": [
       "\\begin{enumerate*}\n",
       "\\item 777\n",
       "\\item 18\n",
       "\\end{enumerate*}\n"
      ],
      "text/markdown": [
       "1. 777\n",
       "2. 18\n",
       "\n",
       "\n"
      ],
      "text/plain": [
       "[1] 777  18"
      ]
     },
     "metadata": {},
     "output_type": "display_data"
    }
   ],
   "source": [
    "library(ISLR)\n",
    "data(College)\n",
    "set.seed(1)\n",
    "dim(College)\n",
    "train = sample(1:dim(College)[1], dim(College)[1] / 2)\n",
    "test <- -train\n",
    "College.train <- College[train, ]\n",
    "College.test <- College[test, ]"
   ]
  },
  {
   "cell_type": "markdown",
   "metadata": {
    "collapsed": true
   },
   "source": [
    "Remeber that if you would like to check the specification of a R function, you can alwasy call the <font color=\"blue\">help()</font> function. Here, we randonly select a half of the data records for training the linear model, and the other half to be in the testing data set.\n",
    "\n",
    "### 2.1 Fit a least square model.\n",
    "For the comparsion purpose, we first fit a linear model using least squares on the training set, and report the test error obtained."
   ]
  },
  {
   "cell_type": "code",
   "execution_count": 44,
   "metadata": {},
   "outputs": [],
   "source": [
    "fit.lm <- lm(Apps ~ ., data = College.train)"
   ]
  },
  {
   "cell_type": "code",
   "execution_count": 45,
   "metadata": {},
   "outputs": [],
   "source": [
    "pred.lm <- predict(fit.lm, College.test)"
   ]
  },
  {
   "cell_type": "code",
   "execution_count": 46,
   "metadata": {},
   "outputs": [
    {
     "data": {
      "text/html": [
       "1135758.31783053"
      ],
      "text/latex": [
       "1135758.31783053"
      ],
      "text/markdown": [
       "1135758.31783053"
      ],
      "text/plain": [
       "[1] 1135758"
      ]
     },
     "metadata": {},
     "output_type": "display_data"
    }
   ],
   "source": [
    "mean((pred.lm - College.test$Apps)^2)"
   ]
  },
  {
   "cell_type": "markdown",
   "metadata": {
    "collapsed": true
   },
   "source": [
    "The means quare error is quite large. \n",
    "\n",
    "### 2.2 Reguarlize the coefficients with the $L_2$ regularization\n",
    "Now, we are going to fit a ridge regression model on the training set, with the shrinkage parameter (or tunning) $\\lambda$ chosen by cross-validation. Remember that the training data taken by the <font color=\"blue\">glmnet</font> function (Type <font color=\"blue\">help(glmnet)</font> to see its specification) should be a matrix. So we have to store all the training and testing datasets in two matrices. "
   ]
  },
  {
   "cell_type": "code",
   "execution_count": 47,
   "metadata": {},
   "outputs": [],
   "source": [
    "train.mat <- model.matrix(Apps ~ ., data = College.train)[,-1]\n",
    "test.mat <- model.matrix(Apps ~ ., data = College.test)[,-1]"
   ]
  },
  {
   "cell_type": "markdown",
   "metadata": {},
   "source": [
    "Now, we generate a list of lambda values that will be used in cross-validation."
   ]
  },
  {
   "cell_type": "code",
   "execution_count": 48,
   "metadata": {},
   "outputs": [],
   "source": [
    "grid <- 10^seq(4, -2, length = 100)"
   ]
  },
  {
   "cell_type": "markdown",
   "metadata": {},
   "source": [
    "With the generated list of possible lambda values, we can now fit the lasso model with the cv.glmnet function. Type \n",
    "```r\n",
    "help(cv.glmnet)\n",
    "```\n",
    "to see the usage information of this function."
   ]
  },
  {
   "cell_type": "code",
   "execution_count": 49,
   "metadata": {},
   "outputs": [
    {
     "data": {
      "text/html": [
       "0.01"
      ],
      "text/latex": [
       "0.01"
      ],
      "text/markdown": [
       "0.01"
      ],
      "text/plain": [
       "[1] 0.01"
      ]
     },
     "metadata": {},
     "output_type": "display_data"
    }
   ],
   "source": [
    "set.seed(1)# the purpose of fixing the seed of the random number generator is to make the result repeatable.\n",
    "fit.ridge <- glmnet(train.mat, College.train$Apps, alpha = 0, lambda = grid, thresh = 1e-12)\n",
    "cv.ridge <- cv.glmnet(train.mat, College.train$Apps, alpha = 0, lambda = grid, thresh = 1e-12)\n",
    "bestlam.ridge <- cv.ridge$lambda.min\n",
    "bestlam.ridge"
   ]
  },
  {
   "cell_type": "code",
   "execution_count": 50,
   "metadata": {},
   "outputs": [
    {
     "data": {
      "text/html": [
       "1135713.72188675"
      ],
      "text/latex": [
       "1135713.72188675"
      ],
      "text/markdown": [
       "1135713.72188675"
      ],
      "text/plain": [
       "[1] 1135714"
      ]
     },
     "metadata": {},
     "output_type": "display_data"
    }
   ],
   "source": [
    "pred.ridge <- predict(fit.ridge, s = bestlam.ridge, newx = test.mat)\n",
    "mean((pred.ridge - College.test$Apps)^2)"
   ]
  },
  {
   "cell_type": "markdown",
   "metadata": {},
   "source": [
    "### 2.3 Regularize the coefficients with the $L_1$ regularization\n",
    "In this question, we will fit a lasso model on the training set, with $\\lambda$ chosen by cross-validation. Report the test error obtained, along with the number of non-zero coefficient estimates.\n"
   ]
  },
  {
   "cell_type": "code",
   "execution_count": 51,
   "metadata": {},
   "outputs": [
    {
     "data": {
      "text/html": [
       "0.01"
      ],
      "text/latex": [
       "0.01"
      ],
      "text/markdown": [
       "0.01"
      ],
      "text/plain": [
       "[1] 0.01"
      ]
     },
     "metadata": {},
     "output_type": "display_data"
    }
   ],
   "source": [
    "set.seed(1)# the purpose of fixing the seed of the random number generator is to make the result repeatable.\n",
    "fit.lasso <- glmnet(train.mat, College.train$Apps, alpha = 1, lambda = grid, thresh = 1e-12)\n",
    "cv.lasso <- cv.glmnet(train.mat, College.train$Apps, alpha = 1, lambda = grid, thresh = 1e-12)\n",
    "bestlam.lasso <- cv.lasso$lambda.min\n",
    "bestlam.lasso"
   ]
  },
  {
   "cell_type": "code",
   "execution_count": 52,
   "metadata": {},
   "outputs": [
    {
     "data": {
      "text/html": [
       "1135659.65934411"
      ],
      "text/latex": [
       "1135659.65934411"
      ],
      "text/markdown": [
       "1135659.65934411"
      ],
      "text/plain": [
       "[1] 1135660"
      ]
     },
     "metadata": {},
     "output_type": "display_data"
    }
   ],
   "source": [
    "pred.lasso <- predict(fit.lasso, s = bestlam.lasso, newx = test.mat)\n",
    "mean((pred.lasso - College.test$Apps)^2)"
   ]
  },
  {
   "cell_type": "code",
   "execution_count": 53,
   "metadata": {},
   "outputs": [
    {
     "data": {
      "text/html": [
       "<style>\n",
       ".dl-inline {width: auto; margin:0; padding: 0}\n",
       ".dl-inline>dt, .dl-inline>dd {float: none; width: auto; display: inline-block}\n",
       ".dl-inline>dt::after {content: \":\\0020\"; padding-right: .5ex}\n",
       ".dl-inline>dt:not(:first-of-type) {padding-left: .5ex}\n",
       "</style><dl class=dl-inline><dt>(Intercept)</dt><dd>-790.036302857914</dd><dt>PrivateYes</dt><dd>-307.01030757441</dd><dt>Accept</dt><dd>1.77932782564917</dd><dt>Enroll</dt><dd>-1.46950811321063</dd><dt>Top10perc</dt><dd>66.72213594721</dd><dt>Top25perc</dt><dd>-22.3044170333889</dd><dt>F.Undergrad</dt><dd>0.092589743238001</dd><dt>P.Undergrad</dt><dd>0.00940883784231429</dd><dt>Outstate</dt><dd>-0.108349477468223</dd><dt>Room.Board</dt><dd>0.211514748538589</dd><dt>Books</dt><dd>0.291210455814273</dd><dt>Personal</dt><dd>0.00612040622254358</dd><dt>PhD</dt><dd>-15.4720035492497</dd><dt>Terminal</dt><dd>6.40950273141719</dd><dt>S.F.Ratio</dt><dd>22.8263831682985</dd><dt>perc.alumni</dt><dd>1.13049808969873</dd><dt>Expend</dt><dd>0.0485669666687615</dd></dl>\n"
      ],
      "text/latex": [
       "\\begin{description*}\n",
       "\\item[(Intercept)] -790.036302857914\n",
       "\\item[PrivateYes] -307.01030757441\n",
       "\\item[Accept] 1.77932782564917\n",
       "\\item[Enroll] -1.46950811321063\n",
       "\\item[Top10perc] 66.72213594721\n",
       "\\item[Top25perc] -22.3044170333889\n",
       "\\item[F.Undergrad] 0.092589743238001\n",
       "\\item[P.Undergrad] 0.00940883784231429\n",
       "\\item[Outstate] -0.108349477468223\n",
       "\\item[Room.Board] 0.211514748538589\n",
       "\\item[Books] 0.291210455814273\n",
       "\\item[Personal] 0.00612040622254358\n",
       "\\item[PhD] -15.4720035492497\n",
       "\\item[Terminal] 6.40950273141719\n",
       "\\item[S.F.Ratio] 22.8263831682985\n",
       "\\item[perc.alumni] 1.13049808969873\n",
       "\\item[Expend] 0.0485669666687615\n",
       "\\end{description*}\n"
      ],
      "text/markdown": [
       "(Intercept)\n",
       ":   -790.036302857914PrivateYes\n",
       ":   -307.01030757441Accept\n",
       ":   1.77932782564917Enroll\n",
       ":   -1.46950811321063Top10perc\n",
       ":   66.72213594721Top25perc\n",
       ":   -22.3044170333889F.Undergrad\n",
       ":   0.092589743238001P.Undergrad\n",
       ":   0.00940883784231429Outstate\n",
       ":   -0.108349477468223Room.Board\n",
       ":   0.211514748538589Books\n",
       ":   0.291210455814273Personal\n",
       ":   0.00612040622254358PhD\n",
       ":   -15.4720035492497Terminal\n",
       ":   6.40950273141719S.F.Ratio\n",
       ":   22.8263831682985perc.alumni\n",
       ":   1.13049808969873Expend\n",
       ":   0.0485669666687615\n",
       "\n"
      ],
      "text/plain": [
       "  (Intercept)    PrivateYes        Accept        Enroll     Top10perc \n",
       "-7.900363e+02 -3.070103e+02  1.779328e+00 -1.469508e+00  6.672214e+01 \n",
       "    Top25perc   F.Undergrad   P.Undergrad      Outstate    Room.Board \n",
       "-2.230442e+01  9.258974e-02  9.408838e-03 -1.083495e-01  2.115147e-01 \n",
       "        Books      Personal           PhD      Terminal     S.F.Ratio \n",
       " 2.912105e-01  6.120406e-03 -1.547200e+01  6.409503e+00  2.282638e+01 \n",
       "  perc.alumni        Expend \n",
       " 1.130498e+00  4.856697e-02 "
      ]
     },
     "metadata": {},
     "output_type": "display_data"
    }
   ],
   "source": [
    "predict(fit.lasso, s = bestlam.lasso, type = \"coefficients\")[1:17, ]"
   ]
  },
  {
   "cell_type": "markdown",
   "metadata": {},
   "source": [
    "Now, we compare the three models:"
   ]
  },
  {
   "cell_type": "code",
   "execution_count": 54,
   "metadata": {},
   "outputs": [
    {
     "data": {
      "text/html": [
       "1135758.31783053"
      ],
      "text/latex": [
       "1135758.31783053"
      ],
      "text/markdown": [
       "1135758.31783053"
      ],
      "text/plain": [
       "[1] 1135758"
      ]
     },
     "metadata": {},
     "output_type": "display_data"
    },
    {
     "data": {
      "text/html": [
       "1135713.72188675"
      ],
      "text/latex": [
       "1135713.72188675"
      ],
      "text/markdown": [
       "1135713.72188675"
      ],
      "text/plain": [
       "[1] 1135714"
      ]
     },
     "metadata": {},
     "output_type": "display_data"
    },
    {
     "data": {
      "text/html": [
       "1135659.65934411"
      ],
      "text/latex": [
       "1135659.65934411"
      ],
      "text/markdown": [
       "1135659.65934411"
      ],
      "text/plain": [
       "[1] 1135660"
      ]
     },
     "metadata": {},
     "output_type": "display_data"
    }
   ],
   "source": [
    "mean((pred.lm - College.test$Apps)^2)\n",
    "mean((pred.ridge - College.test$Apps)^2)\n",
    "mean((pred.lasso - College.test$Apps)^2)"
   ]
  },
  {
   "cell_type": "markdown",
   "metadata": {},
   "source": [
    "The lowest MSE is drived by the lasso model.\n",
    "\n",
    "\n",
    "Optional readings:\n",
    "https://rstudio-pubs-static.s3.amazonaws.com/2897_9220b21cfc0c43a396ff9abf122bb351.html"
   ]
  },
  {
   "cell_type": "code",
   "execution_count": null,
   "metadata": {},
   "outputs": [],
   "source": []
  },
  {
   "cell_type": "code",
   "execution_count": null,
   "metadata": {},
   "outputs": [],
   "source": []
  },
  {
   "cell_type": "code",
   "execution_count": null,
   "metadata": {},
   "outputs": [],
   "source": []
  }
 ],
 "metadata": {
  "kernelspec": {
   "display_name": "R",
   "language": "R",
   "name": "ir"
  },
  "language_info": {
   "codemirror_mode": "r",
   "file_extension": ".r",
   "mimetype": "text/x-r-source",
   "name": "R",
   "pygments_lexer": "r",
   "version": "3.6.1"
  }
 },
 "nbformat": 4,
 "nbformat_minor": 1
}
