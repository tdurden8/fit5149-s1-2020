{
 "cells": [
  {
   "cell_type": "markdown",
   "metadata": {},
   "source": [
    "# Tree-based Methods\n",
    "\n",
    "The materials used in this tutorial are based on the applied exercises provided in the book \"An Introduction to Statistical Learning with Applications in R\" (ISLR). We are trying to demonstrate how to implement the following tree based method:\n",
    "\n",
    "* Decision tree\n",
    "* Random forest \n",
    "* Bagging \n",
    "\n",
    "\n",
    "First you need to install libraries\n",
    "\n",
    "```r\n",
    "install.packages(\"tree\")\n",
    "install.packages(\"randomForest\")\n",
    "```"
   ]
  },
  {
   "cell_type": "code",
   "execution_count": 1,
   "metadata": {},
   "outputs": [],
   "source": [
    "# install.packages(\"tree\")"
   ]
  },
  {
   "cell_type": "code",
   "execution_count": 2,
   "metadata": {},
   "outputs": [],
   "source": [
    "# install.packages(\"randomForest\")"
   ]
  },
  {
   "cell_type": "code",
   "execution_count": 3,
   "metadata": {},
   "outputs": [],
   "source": [
    "# install.packages(\"glmnet\", dependencies=TRUE)"
   ]
  },
  {
   "cell_type": "code",
   "execution_count": 4,
   "metadata": {},
   "outputs": [],
   "source": [
    "# install.packages(\"gbm\", dependencies=TRUE)"
   ]
  },
  {
   "cell_type": "code",
   "execution_count": 5,
   "metadata": {},
   "outputs": [
    {
     "name": "stderr",
     "output_type": "stream",
     "text": [
      "randomForest 4.6-14\n",
      "\n",
      "Type rfNews() to see new features/changes/bug fixes.\n",
      "\n",
      "Loading required package: Matrix\n",
      "\n",
      "Loaded glmnet 3.0-2\n",
      "\n",
      "\n",
      "Loaded gbm 2.1.5\n",
      "\n"
     ]
    }
   ],
   "source": [
    "#load all the libraries\n",
    "library(tree)\n",
    "library(randomForest)\n",
    "library(glmnet)\n",
    "library(gbm)\n",
    "library(ISLR)"
   ]
  },
  {
   "cell_type": "markdown",
   "metadata": {
    "collapsed": true
   },
   "source": [
    "## 1. Predict purchase in OJ dataset\n",
    "\n",
    "\n",
    "OJ dataset (orange juice): The data contains 1070 purchases where the customer either purchased Citrus Hill or Minute Maid Orange Juice. A number of characteristics of the customer and product are recorded.\n",
    "\n",
    "- CH: Citrus Hill organge juice\n",
    "- MM: Minute Maid orange juice\n",
    "\n",
    "In this question, we will treat <font color=\"brown\">Purchase</font> as the response in <font color=\"brown\">OJ</font> dataset. This dataset consists of 1070 observations on the following 18 variables. (The following detail is copied and pasted from <a href=\"https://cran.r-project.org/web/packages/ISLR/ISLR.pdf\">here</a>)"
   ]
  },
  {
   "cell_type": "code",
   "execution_count": 6,
   "metadata": {},
   "outputs": [],
   "source": [
    "?OJ"
   ]
  },
  {
   "cell_type": "code",
   "execution_count": 7,
   "metadata": {},
   "outputs": [
    {
     "data": {
      "text/html": [
       "<table>\n",
       "<caption>A data.frame: 6 × 18</caption>\n",
       "<thead>\n",
       "\t<tr><th></th><th scope=col>Purchase</th><th scope=col>WeekofPurchase</th><th scope=col>StoreID</th><th scope=col>PriceCH</th><th scope=col>PriceMM</th><th scope=col>DiscCH</th><th scope=col>DiscMM</th><th scope=col>SpecialCH</th><th scope=col>SpecialMM</th><th scope=col>LoyalCH</th><th scope=col>SalePriceMM</th><th scope=col>SalePriceCH</th><th scope=col>PriceDiff</th><th scope=col>Store7</th><th scope=col>PctDiscMM</th><th scope=col>PctDiscCH</th><th scope=col>ListPriceDiff</th><th scope=col>STORE</th></tr>\n",
       "\t<tr><th></th><th scope=col>&lt;fct&gt;</th><th scope=col>&lt;dbl&gt;</th><th scope=col>&lt;dbl&gt;</th><th scope=col>&lt;dbl&gt;</th><th scope=col>&lt;dbl&gt;</th><th scope=col>&lt;dbl&gt;</th><th scope=col>&lt;dbl&gt;</th><th scope=col>&lt;dbl&gt;</th><th scope=col>&lt;dbl&gt;</th><th scope=col>&lt;dbl&gt;</th><th scope=col>&lt;dbl&gt;</th><th scope=col>&lt;dbl&gt;</th><th scope=col>&lt;dbl&gt;</th><th scope=col>&lt;fct&gt;</th><th scope=col>&lt;dbl&gt;</th><th scope=col>&lt;dbl&gt;</th><th scope=col>&lt;dbl&gt;</th><th scope=col>&lt;dbl&gt;</th></tr>\n",
       "</thead>\n",
       "<tbody>\n",
       "\t<tr><th scope=row>1</th><td>CH</td><td>237</td><td>1</td><td>1.75</td><td>1.99</td><td>0.00</td><td>0.0</td><td>0</td><td>0</td><td>0.500000</td><td>1.99</td><td>1.75</td><td> 0.24</td><td>No </td><td>0.000000</td><td>0.000000</td><td>0.24</td><td>1</td></tr>\n",
       "\t<tr><th scope=row>2</th><td>CH</td><td>239</td><td>1</td><td>1.75</td><td>1.99</td><td>0.00</td><td>0.3</td><td>0</td><td>1</td><td>0.600000</td><td>1.69</td><td>1.75</td><td>-0.06</td><td>No </td><td>0.150754</td><td>0.000000</td><td>0.24</td><td>1</td></tr>\n",
       "\t<tr><th scope=row>3</th><td>CH</td><td>245</td><td>1</td><td>1.86</td><td>2.09</td><td>0.17</td><td>0.0</td><td>0</td><td>0</td><td>0.680000</td><td>2.09</td><td>1.69</td><td> 0.40</td><td>No </td><td>0.000000</td><td>0.091398</td><td>0.23</td><td>1</td></tr>\n",
       "\t<tr><th scope=row>4</th><td>MM</td><td>227</td><td>1</td><td>1.69</td><td>1.69</td><td>0.00</td><td>0.0</td><td>0</td><td>0</td><td>0.400000</td><td>1.69</td><td>1.69</td><td> 0.00</td><td>No </td><td>0.000000</td><td>0.000000</td><td>0.00</td><td>1</td></tr>\n",
       "\t<tr><th scope=row>5</th><td>CH</td><td>228</td><td>7</td><td>1.69</td><td>1.69</td><td>0.00</td><td>0.0</td><td>0</td><td>0</td><td>0.956535</td><td>1.69</td><td>1.69</td><td> 0.00</td><td>Yes</td><td>0.000000</td><td>0.000000</td><td>0.00</td><td>0</td></tr>\n",
       "\t<tr><th scope=row>6</th><td>CH</td><td>230</td><td>7</td><td>1.69</td><td>1.99</td><td>0.00</td><td>0.0</td><td>0</td><td>1</td><td>0.965228</td><td>1.99</td><td>1.69</td><td> 0.30</td><td>Yes</td><td>0.000000</td><td>0.000000</td><td>0.30</td><td>0</td></tr>\n",
       "</tbody>\n",
       "</table>\n"
      ],
      "text/latex": [
       "A data.frame: 6 × 18\n",
       "\\begin{tabular}{r|llllllllllllllllll}\n",
       "  & Purchase & WeekofPurchase & StoreID & PriceCH & PriceMM & DiscCH & DiscMM & SpecialCH & SpecialMM & LoyalCH & SalePriceMM & SalePriceCH & PriceDiff & Store7 & PctDiscMM & PctDiscCH & ListPriceDiff & STORE\\\\\n",
       "  & <fct> & <dbl> & <dbl> & <dbl> & <dbl> & <dbl> & <dbl> & <dbl> & <dbl> & <dbl> & <dbl> & <dbl> & <dbl> & <fct> & <dbl> & <dbl> & <dbl> & <dbl>\\\\\n",
       "\\hline\n",
       "\t1 & CH & 237 & 1 & 1.75 & 1.99 & 0.00 & 0.0 & 0 & 0 & 0.500000 & 1.99 & 1.75 &  0.24 & No  & 0.000000 & 0.000000 & 0.24 & 1\\\\\n",
       "\t2 & CH & 239 & 1 & 1.75 & 1.99 & 0.00 & 0.3 & 0 & 1 & 0.600000 & 1.69 & 1.75 & -0.06 & No  & 0.150754 & 0.000000 & 0.24 & 1\\\\\n",
       "\t3 & CH & 245 & 1 & 1.86 & 2.09 & 0.17 & 0.0 & 0 & 0 & 0.680000 & 2.09 & 1.69 &  0.40 & No  & 0.000000 & 0.091398 & 0.23 & 1\\\\\n",
       "\t4 & MM & 227 & 1 & 1.69 & 1.69 & 0.00 & 0.0 & 0 & 0 & 0.400000 & 1.69 & 1.69 &  0.00 & No  & 0.000000 & 0.000000 & 0.00 & 1\\\\\n",
       "\t5 & CH & 228 & 7 & 1.69 & 1.69 & 0.00 & 0.0 & 0 & 0 & 0.956535 & 1.69 & 1.69 &  0.00 & Yes & 0.000000 & 0.000000 & 0.00 & 0\\\\\n",
       "\t6 & CH & 230 & 7 & 1.69 & 1.99 & 0.00 & 0.0 & 0 & 1 & 0.965228 & 1.99 & 1.69 &  0.30 & Yes & 0.000000 & 0.000000 & 0.30 & 0\\\\\n",
       "\\end{tabular}\n"
      ],
      "text/markdown": [
       "\n",
       "A data.frame: 6 × 18\n",
       "\n",
       "| <!--/--> | Purchase &lt;fct&gt; | WeekofPurchase &lt;dbl&gt; | StoreID &lt;dbl&gt; | PriceCH &lt;dbl&gt; | PriceMM &lt;dbl&gt; | DiscCH &lt;dbl&gt; | DiscMM &lt;dbl&gt; | SpecialCH &lt;dbl&gt; | SpecialMM &lt;dbl&gt; | LoyalCH &lt;dbl&gt; | SalePriceMM &lt;dbl&gt; | SalePriceCH &lt;dbl&gt; | PriceDiff &lt;dbl&gt; | Store7 &lt;fct&gt; | PctDiscMM &lt;dbl&gt; | PctDiscCH &lt;dbl&gt; | ListPriceDiff &lt;dbl&gt; | STORE &lt;dbl&gt; |\n",
       "|---|---|---|---|---|---|---|---|---|---|---|---|---|---|---|---|---|---|---|\n",
       "| 1 | CH | 237 | 1 | 1.75 | 1.99 | 0.00 | 0.0 | 0 | 0 | 0.500000 | 1.99 | 1.75 |  0.24 | No  | 0.000000 | 0.000000 | 0.24 | 1 |\n",
       "| 2 | CH | 239 | 1 | 1.75 | 1.99 | 0.00 | 0.3 | 0 | 1 | 0.600000 | 1.69 | 1.75 | -0.06 | No  | 0.150754 | 0.000000 | 0.24 | 1 |\n",
       "| 3 | CH | 245 | 1 | 1.86 | 2.09 | 0.17 | 0.0 | 0 | 0 | 0.680000 | 2.09 | 1.69 |  0.40 | No  | 0.000000 | 0.091398 | 0.23 | 1 |\n",
       "| 4 | MM | 227 | 1 | 1.69 | 1.69 | 0.00 | 0.0 | 0 | 0 | 0.400000 | 1.69 | 1.69 |  0.00 | No  | 0.000000 | 0.000000 | 0.00 | 1 |\n",
       "| 5 | CH | 228 | 7 | 1.69 | 1.69 | 0.00 | 0.0 | 0 | 0 | 0.956535 | 1.69 | 1.69 |  0.00 | Yes | 0.000000 | 0.000000 | 0.00 | 0 |\n",
       "| 6 | CH | 230 | 7 | 1.69 | 1.99 | 0.00 | 0.0 | 0 | 1 | 0.965228 | 1.99 | 1.69 |  0.30 | Yes | 0.000000 | 0.000000 | 0.30 | 0 |\n",
       "\n"
      ],
      "text/plain": [
       "  Purchase WeekofPurchase StoreID PriceCH PriceMM DiscCH DiscMM SpecialCH\n",
       "1 CH       237            1       1.75    1.99    0.00   0.0    0        \n",
       "2 CH       239            1       1.75    1.99    0.00   0.3    0        \n",
       "3 CH       245            1       1.86    2.09    0.17   0.0    0        \n",
       "4 MM       227            1       1.69    1.69    0.00   0.0    0        \n",
       "5 CH       228            7       1.69    1.69    0.00   0.0    0        \n",
       "6 CH       230            7       1.69    1.99    0.00   0.0    0        \n",
       "  SpecialMM LoyalCH  SalePriceMM SalePriceCH PriceDiff Store7 PctDiscMM\n",
       "1 0         0.500000 1.99        1.75         0.24     No     0.000000 \n",
       "2 1         0.600000 1.69        1.75        -0.06     No     0.150754 \n",
       "3 0         0.680000 2.09        1.69         0.40     No     0.000000 \n",
       "4 0         0.400000 1.69        1.69         0.00     No     0.000000 \n",
       "5 0         0.956535 1.69        1.69         0.00     Yes    0.000000 \n",
       "6 1         0.965228 1.99        1.69         0.30     Yes    0.000000 \n",
       "  PctDiscCH ListPriceDiff STORE\n",
       "1 0.000000  0.24          1    \n",
       "2 0.000000  0.24          1    \n",
       "3 0.091398  0.23          1    \n",
       "4 0.000000  0.00          1    \n",
       "5 0.000000  0.00          0    \n",
       "6 0.000000  0.30          0    "
      ]
     },
     "metadata": {},
     "output_type": "display_data"
    }
   ],
   "source": [
    "head(OJ)"
   ]
  },
  {
   "cell_type": "code",
   "execution_count": 8,
   "metadata": {},
   "outputs": [
    {
     "data": {
      "text/plain": [
       "\n",
       " CH  MM \n",
       "653 417 "
      ]
     },
     "metadata": {},
     "output_type": "display_data"
    }
   ],
   "source": [
    "table(OJ$Purchase)"
   ]
  },
  {
   "cell_type": "markdown",
   "metadata": {},
   "source": [
    "Among all the purchases, there are 653 bought CH and 417 bought MM juice."
   ]
  },
  {
   "cell_type": "markdown",
   "metadata": {},
   "source": [
    "### 1.1 Create a training set containing a random sample of 800 observations, and a test set containing the remaining observation.\n",
    "\n",
    "- training set size: 800\n",
    "- testing set size: 1070-800 = 270\n",
    "\n",
    "About 75% of the data are seleted as training, and the remaining 25% is testing set."
   ]
  },
  {
   "cell_type": "code",
   "execution_count": 9,
   "metadata": {},
   "outputs": [],
   "source": [
    "set.seed(1)\n",
    "train = sample(1:nrow(OJ), 800)  # \"train\" is the \"indexes\" of the training data"
   ]
  },
  {
   "cell_type": "code",
   "execution_count": 10,
   "metadata": {},
   "outputs": [],
   "source": [
    "OJ.train <- OJ[train, ]\n",
    "OJ.test <- OJ[-train, ]"
   ]
  },
  {
   "cell_type": "code",
   "execution_count": 11,
   "metadata": {},
   "outputs": [
    {
     "data": {
      "text/html": [
       "<style>\n",
       ".list-inline {list-style: none; margin:0; padding: 0}\n",
       ".list-inline>li {display: inline-block}\n",
       ".list-inline>li:not(:last-child)::after {content: \"\\00b7\"; padding: 0 .5ex}\n",
       "</style>\n",
       "<ol class=list-inline><li>800</li><li>18</li></ol>\n"
      ],
      "text/latex": [
       "\\begin{enumerate*}\n",
       "\\item 800\n",
       "\\item 18\n",
       "\\end{enumerate*}\n"
      ],
      "text/markdown": [
       "1. 800\n",
       "2. 18\n",
       "\n",
       "\n"
      ],
      "text/plain": [
       "[1] 800  18"
      ]
     },
     "metadata": {},
     "output_type": "display_data"
    }
   ],
   "source": [
    "# training data shape\n",
    "dim(OJ.train)"
   ]
  },
  {
   "cell_type": "code",
   "execution_count": 12,
   "metadata": {},
   "outputs": [
    {
     "data": {
      "text/html": [
       "<style>\n",
       ".list-inline {list-style: none; margin:0; padding: 0}\n",
       ".list-inline>li {display: inline-block}\n",
       ".list-inline>li:not(:last-child)::after {content: \"\\00b7\"; padding: 0 .5ex}\n",
       "</style>\n",
       "<ol class=list-inline><li>270</li><li>18</li></ol>\n"
      ],
      "text/latex": [
       "\\begin{enumerate*}\n",
       "\\item 270\n",
       "\\item 18\n",
       "\\end{enumerate*}\n"
      ],
      "text/markdown": [
       "1. 270\n",
       "2. 18\n",
       "\n",
       "\n"
      ],
      "text/plain": [
       "[1] 270  18"
      ]
     },
     "metadata": {},
     "output_type": "display_data"
    }
   ],
   "source": [
    "# testing data shape\n",
    "dim(OJ.test)"
   ]
  },
  {
   "cell_type": "code",
   "execution_count": 13,
   "metadata": {},
   "outputs": [],
   "source": [
    "# build the tree on training data\n",
    "\n",
    "tree.OJ = tree( Purchase ~ ., data = OJ.train ) "
   ]
  },
  {
   "cell_type": "code",
   "execution_count": 14,
   "metadata": {},
   "outputs": [
    {
     "data": {
      "text/plain": [
       "\n",
       "Classification tree:\n",
       "tree(formula = Purchase ~ ., data = OJ.train)\n",
       "Variables actually used in tree construction:\n",
       "[1] \"LoyalCH\"       \"PriceDiff\"     \"SpecialCH\"     \"ListPriceDiff\"\n",
       "[5] \"PctDiscMM\"    \n",
       "Number of terminal nodes:  9 \n",
       "Residual mean deviance:  0.7432 = 587.8 / 791 \n",
       "Misclassification error rate: 0.1588 = 127 / 800 "
      ]
     },
     "metadata": {},
     "output_type": "display_data"
    }
   ],
   "source": [
    "# produce summary statistics about the tree\n",
    "summary(tree.OJ)"
   ]
  },
  {
   "cell_type": "markdown",
   "metadata": {},
   "source": [
    "The tree only uses 5 variables \n",
    "* LoyalCH\n",
    "* PriceDiff\n",
    "* SpecialCH\n",
    "* ListPriceDiff\n",
    "* PctDiscMM\n",
    "\n",
    "They are the important predictors that are used to construct the decision tree. \n",
    "\n",
    "The train error rate is 0.1588 for this classification tree. There are 9 terminal nodes in this tree.\n",
    "\n",
    "**The results might be different on your own laptop.**"
   ]
  },
  {
   "cell_type": "markdown",
   "metadata": {},
   "source": [
    "### 1.2 Create a text output for the tree"
   ]
  },
  {
   "cell_type": "code",
   "execution_count": 15,
   "metadata": {},
   "outputs": [
    {
     "data": {
      "text/plain": [
       "node), split, n, deviance, yval, (yprob)\n",
       "      * denotes terminal node\n",
       "\n",
       " 1) root 800 1073.00 CH ( 0.60625 0.39375 )  \n",
       "   2) LoyalCH < 0.5036 365  441.60 MM ( 0.29315 0.70685 )  \n",
       "     4) LoyalCH < 0.280875 177  140.50 MM ( 0.13559 0.86441 )  \n",
       "       8) LoyalCH < 0.0356415 59   10.14 MM ( 0.01695 0.98305 ) *\n",
       "       9) LoyalCH > 0.0356415 118  116.40 MM ( 0.19492 0.80508 ) *\n",
       "     5) LoyalCH > 0.280875 188  258.00 MM ( 0.44149 0.55851 )  \n",
       "      10) PriceDiff < 0.05 79   84.79 MM ( 0.22785 0.77215 )  \n",
       "        20) SpecialCH < 0.5 64   51.98 MM ( 0.14062 0.85938 ) *\n",
       "        21) SpecialCH > 0.5 15   20.19 CH ( 0.60000 0.40000 ) *\n",
       "      11) PriceDiff > 0.05 109  147.00 CH ( 0.59633 0.40367 ) *\n",
       "   3) LoyalCH > 0.5036 435  337.90 CH ( 0.86897 0.13103 )  \n",
       "     6) LoyalCH < 0.764572 174  201.00 CH ( 0.73563 0.26437 )  \n",
       "      12) ListPriceDiff < 0.235 72   99.81 MM ( 0.50000 0.50000 )  \n",
       "        24) PctDiscMM < 0.196196 55   73.14 CH ( 0.61818 0.38182 ) *\n",
       "        25) PctDiscMM > 0.196196 17   12.32 MM ( 0.11765 0.88235 ) *\n",
       "      13) ListPriceDiff > 0.235 102   65.43 CH ( 0.90196 0.09804 ) *\n",
       "     7) LoyalCH > 0.764572 261   91.20 CH ( 0.95785 0.04215 ) *"
      ]
     },
     "metadata": {},
     "output_type": "display_data"
    }
   ],
   "source": [
    "tree.OJ"
   ]
  },
  {
   "cell_type": "markdown",
   "metadata": {},
   "source": [
    "Let's pick terminal node labeled “11)”. The splitting variable at this node is 𝙿𝚛𝚒𝚌𝚎𝙳𝚒𝚏𝚏. \n",
    "\n",
    "* The splitting value of this node is 0.05. \n",
    "* There are 109 points in the subtree below this node. \n",
    "* The deviance for all points contained in region below this node is 147. \n",
    "* A * in the line denotes that this is in fact a terminal node. \n",
    "* The prediction at this node is 𝚂𝚊𝚕𝚎𝚜 = CH. \n",
    "* About 59.6% points in this node have 𝙲𝙷 as value of 𝚂𝚊𝚕𝚎𝚜. Remaining 40.4% points have 𝙼𝙼 as value of 𝚂𝚊𝚕𝚎𝚜."
   ]
  },
  {
   "cell_type": "markdown",
   "metadata": {},
   "source": [
    "### 1.3 Create a plot of the tree, and interpret the results"
   ]
  },
  {
   "cell_type": "code",
   "execution_count": 16,
   "metadata": {},
   "outputs": [
    {
     "data": {
      "text/html": [
       "<strong>null device:</strong> 1"
      ],
      "text/latex": [
       "\\textbf{null device:} 1"
      ],
      "text/markdown": [
       "**null device:** 1"
      ],
      "text/plain": [
       "null device \n",
       "          1 "
      ]
     },
     "metadata": {},
     "output_type": "display_data"
    },
    {
     "data": {
      "image/png": "[encoded data removed]",
      "text/plain": [
       "plot without title"
      ]
     },
     "metadata": {
      "image/png": {
       "height": 420,
       "width": 420
      }
     },
     "output_type": "display_data"
    }
   ],
   "source": [
    "# pdf(\"tree_ex1.pdf\", width = 10, height = 5)\n",
    "plot(tree.OJ)\n",
    "text(tree.OJ, pretty = 0)\n",
    "dev.off()"
   ]
  },
  {
   "cell_type": "markdown",
   "metadata": {},
   "source": [
    "𝙻𝚘𝚢𝚊𝚕𝙲𝙷 (customer brand loyalty for CH) is the most important variable of the tree, in fact top 3 nodes contain 𝙻𝚘𝚢𝚊𝚕𝙲𝙷. \n",
    "\n",
    "If 𝙻𝚘𝚢𝚊𝚕𝙲𝙷<0.036, the tree predicts 𝙼𝙼. \n",
    "\n",
    "If 𝙻𝚘𝚢𝚊𝚕𝙲𝙷>𝟶.𝟽𝟼5, the tree predicts 𝙲𝙷. \n",
    "\n",
    "For intermediate values of 𝙻𝚘𝚢𝚊𝚕𝙲𝙷, the decision also depends on the value of 𝙿𝚛𝚒𝚌𝚎𝙳𝚒𝚏𝚏.\n",
    "\n"
   ]
  },
  {
   "cell_type": "markdown",
   "metadata": {},
   "source": [
    "### 1.4 Predict the response on the test data, and produce the confusion matrix comparing the test labels to the predicted test labels. What is the error rate?"
   ]
  },
  {
   "cell_type": "code",
   "execution_count": 17,
   "metadata": {},
   "outputs": [],
   "source": [
    "y_hat = predict( tree.OJ, newdata= OJ.test, type=\"class\" ) # gives classification labels"
   ]
  },
  {
   "cell_type": "code",
   "execution_count": 18,
   "metadata": {},
   "outputs": [
    {
     "data": {
      "text/html": [
       "<style>\n",
       ".list-inline {list-style: none; margin:0; padding: 0}\n",
       ".list-inline>li {display: inline-block}\n",
       ".list-inline>li:not(:last-child)::after {content: \"\\00b7\"; padding: 0 .5ex}\n",
       "</style>\n",
       "<ol class=list-inline><li>CH</li><li>MM</li><li>CH</li><li>CH</li><li>CH</li><li>CH</li></ol>\n",
       "\n",
       "<details>\n",
       "\t<summary style=display:list-item;cursor:pointer>\n",
       "\t\t<strong>Levels</strong>:\n",
       "\t</summary>\n",
       "\t<style>\n",
       "\t.list-inline {list-style: none; margin:0; padding: 0}\n",
       "\t.list-inline>li {display: inline-block}\n",
       "\t.list-inline>li:not(:last-child)::after {content: \"\\00b7\"; padding: 0 .5ex}\n",
       "\t</style>\n",
       "\t<ol class=list-inline><li>'CH'</li><li>'MM'</li></ol>\n",
       "</details>"
      ],
      "text/latex": [
       "\\begin{enumerate*}\n",
       "\\item CH\n",
       "\\item MM\n",
       "\\item CH\n",
       "\\item CH\n",
       "\\item CH\n",
       "\\item CH\n",
       "\\end{enumerate*}\n",
       "\n",
       "\\emph{Levels}: \\begin{enumerate*}\n",
       "\\item 'CH'\n",
       "\\item 'MM'\n",
       "\\end{enumerate*}\n"
      ],
      "text/markdown": [
       "1. CH\n",
       "2. MM\n",
       "3. CH\n",
       "4. CH\n",
       "5. CH\n",
       "6. CH\n",
       "\n",
       "\n",
       "\n",
       "**Levels**: 1. 'CH'\n",
       "2. 'MM'\n",
       "\n",
       "\n"
      ],
      "text/plain": [
       "[1] CH MM CH CH CH CH\n",
       "Levels: CH MM"
      ]
     },
     "metadata": {},
     "output_type": "display_data"
    }
   ],
   "source": [
    "head(y_hat)  # the predicted class labels for the testing data"
   ]
  },
  {
   "cell_type": "code",
   "execution_count": 19,
   "metadata": {},
   "outputs": [
    {
     "name": "stdout",
     "output_type": "stream",
     "text": [
      "     \n",
      "y_hat  CH  MM\n",
      "   CH 160  38\n",
      "   MM   8  64\n"
     ]
    }
   ],
   "source": [
    "CM = table( y_hat, OJ.test$Purchase )   # confusion matrix\n",
    "print(CM)"
   ]
  },
  {
   "cell_type": "markdown",
   "metadata": {},
   "source": [
    "Among all the testing data:\n",
    "- there are 160 CH and 64 MM predicted correctly.\n",
    "- there are (38 + 8 = 46) purchases are misclassified.\n",
    "\n",
    "Results:\n",
    "- the error rate is: (38+8)/270 = 0.17\n",
    "- the classification accuracy: 1 - error rate = 0.83 "
   ]
  },
  {
   "cell_type": "code",
   "execution_count": 20,
   "metadata": {},
   "outputs": [
    {
     "name": "stdout",
     "output_type": "stream",
     "text": [
      "[1] \"original tree: classificaion error rate on the test dataset:\"\n"
     ]
    },
    {
     "data": {
      "text/html": [
       "0.17037037037037"
      ],
      "text/latex": [
       "0.17037037037037"
      ],
      "text/markdown": [
       "0.17037037037037"
      ],
      "text/plain": [
       "[1] 0.1703704"
      ]
     },
     "metadata": {},
     "output_type": "display_data"
    }
   ],
   "source": [
    "print( 'original tree: classificaion error rate on the test dataset:')\n",
    "\n",
    "mean(y_hat!=OJ.test$Purchase) # Compare whether the predicted class is the same with the ground truth"
   ]
  },
  {
   "cell_type": "code",
   "execution_count": 21,
   "metadata": {},
   "outputs": [
    {
     "name": "stdout",
     "output_type": "stream",
     "text": [
      "[1] 0.1703704\n"
     ]
    }
   ],
   "source": [
    "#or\n",
    "print( ( CM[1,2] + CM[2,1] ) / sum(CM) )"
   ]
  },
  {
   "cell_type": "markdown",
   "metadata": {},
   "source": [
    "### 1.5 Apply the <font color=\"blue\">cv.tree()</font> function to the training set in order to determine the optimal tree size. Produce plots with tree size and cross-validation classification error rate. Which tree size is chosen?"
   ]
  },
  {
   "cell_type": "code",
   "execution_count": 22,
   "metadata": {},
   "outputs": [
    {
     "data": {
      "text/plain": [
       "$size\n",
       "[1] 9 8 7 4 2 1\n",
       "\n",
       "$dev\n",
       "[1] 150 150 149 158 172 315\n",
       "\n",
       "$k\n",
       "[1]       -Inf   0.000000   3.000000   4.333333  10.500000 151.000000\n",
       "\n",
       "$method\n",
       "[1] \"misclass\"\n",
       "\n",
       "attr(,\"class\")\n",
       "[1] \"prune\"         \"tree.sequence\""
      ]
     },
     "metadata": {},
     "output_type": "display_data"
    }
   ],
   "source": [
    "# The function cv.tree() performs cross-validation in order to \n",
    "# cv.tree() determine the optimal level of tree complexity; \n",
    "# cost complexity pruning is used in order to select a sequence of trees for consideration.\n",
    "\n",
    "cv.OJ = cv.tree( tree.OJ, FUN=prune.misclass )  # FUN: The function to do the pruning.\n",
    "cv.OJ"
   ]
  },
  {
   "cell_type": "markdown",
   "metadata": {},
   "source": [
    "- size: the number of terminal nodes\n",
    "- dev: corresponds to the cross-validation error rate\n",
    "- k: the value of the cost-complexity parameter used "
   ]
  },
  {
   "cell_type": "code",
   "execution_count": 23,
   "metadata": {},
   "outputs": [
    {
     "data": {
      "image/png": "[encoded data removed]",
      "text/plain": [
       "plot without title"
      ]
     },
     "metadata": {
      "image/png": {
       "height": 420,
       "width": 420
      }
     },
     "output_type": "display_data"
    }
   ],
   "source": [
    "plot(cv.OJ$size, cv.OJ$dev, type =\"b\", xlab=\"size\", ylab=\"CV error\")"
   ]
  },
  {
   "cell_type": "markdown",
   "metadata": {},
   "source": [
    "The best size number are 7"
   ]
  },
  {
   "cell_type": "markdown",
   "metadata": {},
   "source": [
    "### 1.6 Produce a pruned tree corresponding to the optimal tree size obtained using cross-validation."
   ]
  },
  {
   "cell_type": "code",
   "execution_count": 24,
   "metadata": {},
   "outputs": [
    {
     "data": {
      "image/png": "[encoded data removed]",
      "text/plain": [
       "plot without title"
      ]
     },
     "metadata": {
      "image/png": {
       "height": 420,
       "width": 420
      }
     },
     "output_type": "display_data"
    }
   ],
   "source": [
    "prune.OJ = prune.misclass(tree.OJ, best=7 )\n",
    "#pdf(file=\"classfication_1.pdf\", width = 10, height = 5)\n",
    "plot(prune.OJ)\n",
    "text(prune.OJ)\n",
    "#dev.off()"
   ]
  },
  {
   "cell_type": "markdown",
   "metadata": {},
   "source": [
    "### 1.7 Compare the training error rates between the pruned and unpruned trees. Which is higher?"
   ]
  },
  {
   "cell_type": "code",
   "execution_count": 25,
   "metadata": {},
   "outputs": [
    {
     "data": {
      "text/plain": [
       "\n",
       "Classification tree:\n",
       "tree(formula = Purchase ~ ., data = OJ.train)\n",
       "Variables actually used in tree construction:\n",
       "[1] \"LoyalCH\"       \"PriceDiff\"     \"SpecialCH\"     \"ListPriceDiff\"\n",
       "[5] \"PctDiscMM\"    \n",
       "Number of terminal nodes:  9 \n",
       "Residual mean deviance:  0.7432 = 587.8 / 791 \n",
       "Misclassification error rate: 0.1588 = 127 / 800 "
      ]
     },
     "metadata": {},
     "output_type": "display_data"
    }
   ],
   "source": [
    "summary(tree.OJ)"
   ]
  },
  {
   "cell_type": "code",
   "execution_count": 26,
   "metadata": {},
   "outputs": [
    {
     "data": {
      "text/plain": [
       "\n",
       "Classification tree:\n",
       "snip.tree(tree = tree.OJ, nodes = c(4L, 10L))\n",
       "Variables actually used in tree construction:\n",
       "[1] \"LoyalCH\"       \"PriceDiff\"     \"ListPriceDiff\" \"PctDiscMM\"    \n",
       "Number of terminal nodes:  7 \n",
       "Residual mean deviance:  0.7748 = 614.4 / 793 \n",
       "Misclassification error rate: 0.1625 = 130 / 800 "
      ]
     },
     "metadata": {},
     "output_type": "display_data"
    }
   ],
   "source": [
    "summary(prune.OJ)"
   ]
  },
  {
   "cell_type": "markdown",
   "metadata": {},
   "source": [
    "The train error for the original tree is 0.1588, while for the pruned tree is 0.1625. The residual mean deviance for the pruned tree is higher."
   ]
  },
  {
   "cell_type": "markdown",
   "metadata": {},
   "source": [
    "### 1.8 Compare the **testing error rates** between the pruned and unpruned trees. Which is higher?"
   ]
  },
  {
   "cell_type": "code",
   "execution_count": 27,
   "metadata": {},
   "outputs": [
    {
     "name": "stdout",
     "output_type": "stream",
     "text": [
      "           \n",
      "y_hat.prune  CH  MM\n",
      "         CH 160  36\n",
      "         MM   8  66\n",
      "[1] \"prune tree: classificaion error rate on the test dataset:\"\n"
     ]
    },
    {
     "data": {
      "text/html": [
       "0.162962962962963"
      ],
      "text/latex": [
       "0.162962962962963"
      ],
      "text/markdown": [
       "0.162962962962963"
      ],
      "text/plain": [
       "[1] 0.162963"
      ]
     },
     "metadata": {},
     "output_type": "display_data"
    }
   ],
   "source": [
    "y_hat.prune = predict( prune.OJ, newdata=OJ.test, type=\"class\" ) # gives classification labels\n",
    "CM.prune = table( y_hat.prune, OJ.test$Purchase )   # confusion matrix\n",
    "print( CM.prune )\n",
    "\n",
    "print( 'prune tree: classificaion error rate on the test dataset:')\n",
    "# or print( ( CM.prune[1,2] + CM.prune[2,1] ) / sum(CM.prune) )\n",
    "mean(y_hat.prune!=OJ[-train,]$Purchase)"
   ]
  },
  {
   "cell_type": "markdown",
   "metadata": {},
   "source": [
    "- The error rate of unprunned tree is : 0.1703\n",
    "- The error rate of prunned tree is: 0.163\n",
    "\n",
    "The results shows the the prunned tree is more accurate. So not only has the pruning process produced a more interpretable tree, but it has also improved the classification accuracy."
   ]
  },
  {
   "cell_type": "markdown",
   "metadata": {
    "collapsed": true
   },
   "source": [
    "## 2. Use boosting to predict Salary in the Hitters dataset \n",
    "\n",
    "In this task, we are going to study how to fit a boosted regression tree.\n",
    "\n",
    "### 2.1 Prepare the training and the testing datasets.\n",
    "There are some observations for whom the salary information is unknown. We need to exclude those observations from the datasets. And then, log-transform the salaries."
   ]
  },
  {
   "cell_type": "code",
   "execution_count": 28,
   "metadata": {},
   "outputs": [],
   "source": [
    "?Hitters  #baseball data"
   ]
  },
  {
   "cell_type": "code",
   "execution_count": 29,
   "metadata": {},
   "outputs": [
    {
     "data": {
      "text/html": [
       "<style>\n",
       ".list-inline {list-style: none; margin:0; padding: 0}\n",
       ".list-inline>li {display: inline-block}\n",
       ".list-inline>li:not(:last-child)::after {content: \"\\00b7\"; padding: 0 .5ex}\n",
       "</style>\n",
       "<ol class=list-inline><li>322</li><li>20</li></ol>\n"
      ],
      "text/latex": [
       "\\begin{enumerate*}\n",
       "\\item 322\n",
       "\\item 20\n",
       "\\end{enumerate*}\n"
      ],
      "text/markdown": [
       "1. 322\n",
       "2. 20\n",
       "\n",
       "\n"
      ],
      "text/plain": [
       "[1] 322  20"
      ]
     },
     "metadata": {},
     "output_type": "display_data"
    }
   ],
   "source": [
    "dim(Hitters)"
   ]
  },
  {
   "cell_type": "code",
   "execution_count": 30,
   "metadata": {},
   "outputs": [
    {
     "data": {
      "text/html": [
       "<table>\n",
       "<caption>A data.frame: 6 × 20</caption>\n",
       "<thead>\n",
       "\t<tr><th></th><th scope=col>AtBat</th><th scope=col>Hits</th><th scope=col>HmRun</th><th scope=col>Runs</th><th scope=col>RBI</th><th scope=col>Walks</th><th scope=col>Years</th><th scope=col>CAtBat</th><th scope=col>CHits</th><th scope=col>CHmRun</th><th scope=col>CRuns</th><th scope=col>CRBI</th><th scope=col>CWalks</th><th scope=col>League</th><th scope=col>Division</th><th scope=col>PutOuts</th><th scope=col>Assists</th><th scope=col>Errors</th><th scope=col>Salary</th><th scope=col>NewLeague</th></tr>\n",
       "\t<tr><th></th><th scope=col>&lt;int&gt;</th><th scope=col>&lt;int&gt;</th><th scope=col>&lt;int&gt;</th><th scope=col>&lt;int&gt;</th><th scope=col>&lt;int&gt;</th><th scope=col>&lt;int&gt;</th><th scope=col>&lt;int&gt;</th><th scope=col>&lt;int&gt;</th><th scope=col>&lt;int&gt;</th><th scope=col>&lt;int&gt;</th><th scope=col>&lt;int&gt;</th><th scope=col>&lt;int&gt;</th><th scope=col>&lt;int&gt;</th><th scope=col>&lt;fct&gt;</th><th scope=col>&lt;fct&gt;</th><th scope=col>&lt;int&gt;</th><th scope=col>&lt;int&gt;</th><th scope=col>&lt;int&gt;</th><th scope=col>&lt;dbl&gt;</th><th scope=col>&lt;fct&gt;</th></tr>\n",
       "</thead>\n",
       "<tbody>\n",
       "\t<tr><th scope=row>-Andy Allanson</th><td>293</td><td> 66</td><td> 1</td><td>30</td><td>29</td><td>14</td><td> 1</td><td> 293</td><td>  66</td><td>  1</td><td> 30</td><td> 29</td><td> 14</td><td>A</td><td>E</td><td>446</td><td> 33</td><td>20</td><td>   NA</td><td>A</td></tr>\n",
       "\t<tr><th scope=row>-Alan Ashby</th><td>315</td><td> 81</td><td> 7</td><td>24</td><td>38</td><td>39</td><td>14</td><td>3449</td><td> 835</td><td> 69</td><td>321</td><td>414</td><td>375</td><td>N</td><td>W</td><td>632</td><td> 43</td><td>10</td><td>475.0</td><td>N</td></tr>\n",
       "\t<tr><th scope=row>-Alvin Davis</th><td>479</td><td>130</td><td>18</td><td>66</td><td>72</td><td>76</td><td> 3</td><td>1624</td><td> 457</td><td> 63</td><td>224</td><td>266</td><td>263</td><td>A</td><td>W</td><td>880</td><td> 82</td><td>14</td><td>480.0</td><td>A</td></tr>\n",
       "\t<tr><th scope=row>-Andre Dawson</th><td>496</td><td>141</td><td>20</td><td>65</td><td>78</td><td>37</td><td>11</td><td>5628</td><td>1575</td><td>225</td><td>828</td><td>838</td><td>354</td><td>N</td><td>E</td><td>200</td><td> 11</td><td> 3</td><td>500.0</td><td>N</td></tr>\n",
       "\t<tr><th scope=row>-Andres Galarraga</th><td>321</td><td> 87</td><td>10</td><td>39</td><td>42</td><td>30</td><td> 2</td><td> 396</td><td> 101</td><td> 12</td><td> 48</td><td> 46</td><td> 33</td><td>N</td><td>E</td><td>805</td><td> 40</td><td> 4</td><td> 91.5</td><td>N</td></tr>\n",
       "\t<tr><th scope=row>-Alfredo Griffin</th><td>594</td><td>169</td><td> 4</td><td>74</td><td>51</td><td>35</td><td>11</td><td>4408</td><td>1133</td><td> 19</td><td>501</td><td>336</td><td>194</td><td>A</td><td>W</td><td>282</td><td>421</td><td>25</td><td>750.0</td><td>A</td></tr>\n",
       "</tbody>\n",
       "</table>\n"
      ],
      "text/latex": [
       "A data.frame: 6 × 20\n",
       "\\begin{tabular}{r|llllllllllllllllllll}\n",
       "  & AtBat & Hits & HmRun & Runs & RBI & Walks & Years & CAtBat & CHits & CHmRun & CRuns & CRBI & CWalks & League & Division & PutOuts & Assists & Errors & Salary & NewLeague\\\\\n",
       "  & <int> & <int> & <int> & <int> & <int> & <int> & <int> & <int> & <int> & <int> & <int> & <int> & <int> & <fct> & <fct> & <int> & <int> & <int> & <dbl> & <fct>\\\\\n",
       "\\hline\n",
       "\t-Andy Allanson & 293 &  66 &  1 & 30 & 29 & 14 &  1 &  293 &   66 &   1 &  30 &  29 &  14 & A & E & 446 &  33 & 20 &    NA & A\\\\\n",
       "\t-Alan Ashby & 315 &  81 &  7 & 24 & 38 & 39 & 14 & 3449 &  835 &  69 & 321 & 414 & 375 & N & W & 632 &  43 & 10 & 475.0 & N\\\\\n",
       "\t-Alvin Davis & 479 & 130 & 18 & 66 & 72 & 76 &  3 & 1624 &  457 &  63 & 224 & 266 & 263 & A & W & 880 &  82 & 14 & 480.0 & A\\\\\n",
       "\t-Andre Dawson & 496 & 141 & 20 & 65 & 78 & 37 & 11 & 5628 & 1575 & 225 & 828 & 838 & 354 & N & E & 200 &  11 &  3 & 500.0 & N\\\\\n",
       "\t-Andres Galarraga & 321 &  87 & 10 & 39 & 42 & 30 &  2 &  396 &  101 &  12 &  48 &  46 &  33 & N & E & 805 &  40 &  4 &  91.5 & N\\\\\n",
       "\t-Alfredo Griffin & 594 & 169 &  4 & 74 & 51 & 35 & 11 & 4408 & 1133 &  19 & 501 & 336 & 194 & A & W & 282 & 421 & 25 & 750.0 & A\\\\\n",
       "\\end{tabular}\n"
      ],
      "text/markdown": [
       "\n",
       "A data.frame: 6 × 20\n",
       "\n",
       "| <!--/--> | AtBat &lt;int&gt; | Hits &lt;int&gt; | HmRun &lt;int&gt; | Runs &lt;int&gt; | RBI &lt;int&gt; | Walks &lt;int&gt; | Years &lt;int&gt; | CAtBat &lt;int&gt; | CHits &lt;int&gt; | CHmRun &lt;int&gt; | CRuns &lt;int&gt; | CRBI &lt;int&gt; | CWalks &lt;int&gt; | League &lt;fct&gt; | Division &lt;fct&gt; | PutOuts &lt;int&gt; | Assists &lt;int&gt; | Errors &lt;int&gt; | Salary &lt;dbl&gt; | NewLeague &lt;fct&gt; |\n",
       "|---|---|---|---|---|---|---|---|---|---|---|---|---|---|---|---|---|---|---|---|---|\n",
       "| -Andy Allanson | 293 |  66 |  1 | 30 | 29 | 14 |  1 |  293 |   66 |   1 |  30 |  29 |  14 | A | E | 446 |  33 | 20 |    NA | A |\n",
       "| -Alan Ashby | 315 |  81 |  7 | 24 | 38 | 39 | 14 | 3449 |  835 |  69 | 321 | 414 | 375 | N | W | 632 |  43 | 10 | 475.0 | N |\n",
       "| -Alvin Davis | 479 | 130 | 18 | 66 | 72 | 76 |  3 | 1624 |  457 |  63 | 224 | 266 | 263 | A | W | 880 |  82 | 14 | 480.0 | A |\n",
       "| -Andre Dawson | 496 | 141 | 20 | 65 | 78 | 37 | 11 | 5628 | 1575 | 225 | 828 | 838 | 354 | N | E | 200 |  11 |  3 | 500.0 | N |\n",
       "| -Andres Galarraga | 321 |  87 | 10 | 39 | 42 | 30 |  2 |  396 |  101 |  12 |  48 |  46 |  33 | N | E | 805 |  40 |  4 |  91.5 | N |\n",
       "| -Alfredo Griffin | 594 | 169 |  4 | 74 | 51 | 35 | 11 | 4408 | 1133 |  19 | 501 | 336 | 194 | A | W | 282 | 421 | 25 | 750.0 | A |\n",
       "\n"
      ],
      "text/plain": [
       "                  AtBat Hits HmRun Runs RBI Walks Years CAtBat CHits CHmRun\n",
       "-Andy Allanson    293    66   1    30   29  14     1     293     66    1   \n",
       "-Alan Ashby       315    81   7    24   38  39    14    3449    835   69   \n",
       "-Alvin Davis      479   130  18    66   72  76     3    1624    457   63   \n",
       "-Andre Dawson     496   141  20    65   78  37    11    5628   1575  225   \n",
       "-Andres Galarraga 321    87  10    39   42  30     2     396    101   12   \n",
       "-Alfredo Griffin  594   169   4    74   51  35    11    4408   1133   19   \n",
       "                  CRuns CRBI CWalks League Division PutOuts Assists Errors\n",
       "-Andy Allanson     30    29   14    A      E        446      33     20    \n",
       "-Alan Ashby       321   414  375    N      W        632      43     10    \n",
       "-Alvin Davis      224   266  263    A      W        880      82     14    \n",
       "-Andre Dawson     828   838  354    N      E        200      11      3    \n",
       "-Andres Galarraga  48    46   33    N      E        805      40      4    \n",
       "-Alfredo Griffin  501   336  194    A      W        282     421     25    \n",
       "                  Salary NewLeague\n",
       "-Andy Allanson       NA  A        \n",
       "-Alan Ashby       475.0  N        \n",
       "-Alvin Davis      480.0  A        \n",
       "-Andre Dawson     500.0  N        \n",
       "-Andres Galarraga  91.5  N        \n",
       "-Alfredo Griffin  750.0  A        "
      ]
     },
     "metadata": {},
     "output_type": "display_data"
    }
   ],
   "source": [
    "head(Hitters)"
   ]
  },
  {
   "cell_type": "code",
   "execution_count": 31,
   "metadata": {},
   "outputs": [
    {
     "data": {
      "text/html": [
       "59"
      ],
      "text/latex": [
       "59"
      ],
      "text/markdown": [
       "59"
      ],
      "text/plain": [
       "[1] 59"
      ]
     },
     "metadata": {},
     "output_type": "display_data"
    }
   ],
   "source": [
    "sum(is.na(Hitters$Salary))  # there are 59 missing values on salary"
   ]
  },
  {
   "cell_type": "code",
   "execution_count": 32,
   "metadata": {},
   "outputs": [],
   "source": [
    "Hitters <- na.omit(Hitters)  # drop the rows with missing salaries"
   ]
  },
  {
   "cell_type": "code",
   "execution_count": 33,
   "metadata": {},
   "outputs": [],
   "source": [
    "Hitters$Salary <- log(Hitters$Salary)   # do log transformation on salary"
   ]
  },
  {
   "cell_type": "code",
   "execution_count": 34,
   "metadata": {},
   "outputs": [
    {
     "data": {
      "text/html": [
       "<style>\n",
       ".list-inline {list-style: none; margin:0; padding: 0}\n",
       ".list-inline>li {display: inline-block}\n",
       ".list-inline>li:not(:last-child)::after {content: \"\\00b7\"; padding: 0 .5ex}\n",
       "</style>\n",
       "<ol class=list-inline><li>263</li><li>20</li></ol>\n"
      ],
      "text/latex": [
       "\\begin{enumerate*}\n",
       "\\item 263\n",
       "\\item 20\n",
       "\\end{enumerate*}\n"
      ],
      "text/markdown": [
       "1. 263\n",
       "2. 20\n",
       "\n",
       "\n"
      ],
      "text/plain": [
       "[1] 263  20"
      ]
     },
     "metadata": {},
     "output_type": "display_data"
    }
   ],
   "source": [
    "dim(Hitters)"
   ]
  },
  {
   "cell_type": "markdown",
   "metadata": {},
   "source": [
    "As what you have done in the task 1 above, we generate the training and testing splits."
   ]
  },
  {
   "cell_type": "code",
   "execution_count": 35,
   "metadata": {},
   "outputs": [],
   "source": [
    "# use the first 200 data as training, and the remaining as testing data.\n",
    "train <- 1:200\n",
    "Hitters.train <- Hitters[train, ]\n",
    "Hitters.test <- Hitters[-train, ]"
   ]
  },
  {
   "cell_type": "markdown",
   "metadata": {},
   "source": [
    "### 2.2 Fit a boosted tree \n",
    "Perform boosting on the training set with 1000 trees for a range of values of the shrinkage parameter $\\lambda$.\n",
    "Produce twos plots:\n",
    "* one with different shrinkage values on the x-axis and the corresponding **training set MSE** on the y-axis.\n",
    "* one with different shrinkage values on the x-axis and the corresponding **testing set MSE** on the y-axis."
   ]
  },
  {
   "cell_type": "code",
   "execution_count": 36,
   "metadata": {},
   "outputs": [],
   "source": [
    "set.seed(1)"
   ]
  },
  {
   "cell_type": "code",
   "execution_count": 37,
   "metadata": {},
   "outputs": [],
   "source": [
    "#  genernate values for lambdas\n",
    "pows = seq(-10, -0.2, by = 0.1)\n",
    "\n",
    "lambdas = 10^pows\n",
    "\n",
    "length.lambdas = length(lambdas)\n",
    "\n",
    "# save the results\n",
    "train.errors = rep(NA, length.lambdas)\n",
    "test.errors = rep(NA, length.lambdas)"
   ]
  },
  {
   "cell_type": "markdown",
   "metadata": {},
   "source": [
    "Now, perform the boosting with the setting above."
   ]
  },
  {
   "cell_type": "code",
   "execution_count": 38,
   "metadata": {},
   "outputs": [],
   "source": [
    "for (i in 1:length.lambdas) {\n",
    "    \n",
    "#     1. fit the boosting model with different lambda\n",
    "    boost.hitters = gbm(Salary ~ ., data = Hitters.train, distribution = \"gaussian\", n.trees = 1000, shrinkage = lambdas[i])\n",
    "#     2. get results on training set\n",
    "    train.pred = predict(boost.hitters, Hitters.train, n.trees = 1000)\n",
    "#     3. get results on testing data\n",
    "    test.pred = predict(boost.hitters, Hitters.test, n.trees = 1000)\n",
    "#     4. save the MSE\n",
    "    train.errors[i] = mean((Hitters.train$Salary - train.pred)^2)\n",
    "    test.errors[i] = mean((Hitters.test$Salary - test.pred)^2)\n",
    "}"
   ]
  },
  {
   "cell_type": "markdown",
   "metadata": {},
   "source": [
    "Plot the training/testing MSE as a function of $\\lambda$s results below"
   ]
  },
  {
   "cell_type": "code",
   "execution_count": 39,
   "metadata": {},
   "outputs": [
    {
     "data": {
      "image/png": "[encoded data removed]",
      "text/plain": [
       "Plot with title “MSE on Testing data”"
      ]
     },
     "metadata": {
      "image/png": {
       "height": 420,
       "width": 420
      }
     },
     "output_type": "display_data"
    }
   ],
   "source": [
    "par(mfcol=c(1,2),  pty = \"s\")\n",
    "plot(lambdas, train.errors, type = \"b\", xlab = \"Shrinkage values lambda\", ylab = \"Training MSE\",main = \"MSE on Training data\")\n",
    "plot(lambdas, test.errors, type = \"b\", xlab = \"Shrinkage values lambda\", ylab = \"Testing MSE\",main = \"MSE on Testing data\")\n",
    "# par(\"fig\")"
   ]
  },
  {
   "cell_type": "markdown",
   "metadata": {},
   "source": [
    "What is the min test error?"
   ]
  },
  {
   "cell_type": "code",
   "execution_count": 48,
   "metadata": {},
   "outputs": [
    {
     "data": {
      "text/html": [
       "0.254026510444201"
      ],
      "text/latex": [
       "0.254026510444201"
      ],
      "text/markdown": [
       "0.254026510444201"
      ],
      "text/plain": [
       "[1] 0.2540265"
      ]
     },
     "metadata": {},
     "output_type": "display_data"
    }
   ],
   "source": [
    "min(test.errors)"
   ]
  },
  {
   "cell_type": "code",
   "execution_count": 41,
   "metadata": {},
   "outputs": [
    {
     "data": {
      "text/html": [
       "0.0794328234724282"
      ],
      "text/latex": [
       "0.0794328234724282"
      ],
      "text/markdown": [
       "0.0794328234724282"
      ],
      "text/plain": [
       "[1] 0.07943282"
      ]
     },
     "metadata": {},
     "output_type": "display_data"
    }
   ],
   "source": [
    "# get the best value for lambda\n",
    "lambdas[which.min(test.errors)]"
   ]
  },
  {
   "cell_type": "markdown",
   "metadata": {},
   "source": [
    "### 2.3 Comparison\n",
    "\n",
    "Compare the test MSE of boosting to the test MSE that results from applying the regression approaches: \n",
    "* regression \n",
    "* lasso regression\n",
    "* Ridge regression"
   ]
  },
  {
   "cell_type": "code",
   "execution_count": 42,
   "metadata": {},
   "outputs": [
    {
     "data": {
      "text/html": [
       "0.491795937545494"
      ],
      "text/latex": [
       "0.491795937545494"
      ],
      "text/markdown": [
       "0.491795937545494"
      ],
      "text/plain": [
       "[1] 0.4917959"
      ]
     },
     "metadata": {},
     "output_type": "display_data"
    }
   ],
   "source": [
    "# linear regression\n",
    "fit1 <- lm(Salary ~ ., data = Hitters.train)\n",
    "pred1 <- predict(fit1, Hitters.test)\n",
    "mean((pred1 - Hitters.test$Salary)^2)"
   ]
  },
  {
   "cell_type": "code",
   "execution_count": 43,
   "metadata": {},
   "outputs": [
    {
     "data": {
      "text/html": [
       "0.457028250141243"
      ],
      "text/latex": [
       "0.457028250141243"
      ],
      "text/markdown": [
       "0.457028250141243"
      ],
      "text/plain": [
       "[1] 0.4570283"
      ]
     },
     "metadata": {},
     "output_type": "display_data"
    }
   ],
   "source": [
    "x <- model.matrix(Salary ~ ., data = Hitters.train)\n",
    "x.test <- model.matrix(Salary ~ ., data = Hitters.test)\n",
    "y <- Hitters.train$Salary\n",
    "\n",
    "# alpha = 0 for ridge regression.\n",
    "fit2 <- glmnet(x, y, alpha = 0)\n",
    "pred2 <- predict(fit2, s = 0.01, newx = x.test)\n",
    "mean((pred2 - Hitters.test$Salary)^2)"
   ]
  },
  {
   "cell_type": "code",
   "execution_count": 44,
   "metadata": {},
   "outputs": [
    {
     "data": {
      "text/html": [
       "0.470053732710274"
      ],
      "text/latex": [
       "0.470053732710274"
      ],
      "text/markdown": [
       "0.470053732710274"
      ],
      "text/plain": [
       "[1] 0.4700537"
      ]
     },
     "metadata": {},
     "output_type": "display_data"
    }
   ],
   "source": [
    "# alpha = 1 for lasso regression\n",
    "fit3 <- glmnet(x, y, alpha = 1)\n",
    "pred3 <- predict(fit3, s = 0.01, newx = x.test)\n",
    "mean((pred3 - Hitters.test$Salary)^2)"
   ]
  },
  {
   "cell_type": "markdown",
   "metadata": {},
   "source": [
    "Both linear model and regularization like Lasso have higher test MSE than boosting."
   ]
  },
  {
   "cell_type": "markdown",
   "metadata": {},
   "source": [
    "### 2.4 Which variables appear to be the most important predictors in the boosted model ?"
   ]
  },
  {
   "cell_type": "code",
   "execution_count": 45,
   "metadata": {},
   "outputs": [
    {
     "data": {
      "text/html": [
       "<table>\n",
       "<caption>A data.frame: 19 × 2</caption>\n",
       "<thead>\n",
       "\t<tr><th></th><th scope=col>var</th><th scope=col>rel.inf</th></tr>\n",
       "\t<tr><th></th><th scope=col>&lt;chr&gt;</th><th scope=col>&lt;dbl&gt;</th></tr>\n",
       "</thead>\n",
       "<tbody>\n",
       "\t<tr><th scope=row>CAtBat</th><td>CAtBat   </td><td>20.8404970</td></tr>\n",
       "\t<tr><th scope=row>CRBI</th><td>CRBI     </td><td>12.3158959</td></tr>\n",
       "\t<tr><th scope=row>Walks</th><td>Walks    </td><td> 7.4186037</td></tr>\n",
       "\t<tr><th scope=row>PutOuts</th><td>PutOuts  </td><td> 7.1958539</td></tr>\n",
       "\t<tr><th scope=row>Years</th><td>Years    </td><td> 6.3104535</td></tr>\n",
       "\t<tr><th scope=row>CWalks</th><td>CWalks   </td><td> 6.0221656</td></tr>\n",
       "\t<tr><th scope=row>CHmRun</th><td>CHmRun   </td><td> 5.7759763</td></tr>\n",
       "\t<tr><th scope=row>CHits</th><td>CHits    </td><td> 4.8914360</td></tr>\n",
       "\t<tr><th scope=row>AtBat</th><td>AtBat    </td><td> 4.2187460</td></tr>\n",
       "\t<tr><th scope=row>RBI</th><td>RBI      </td><td> 4.0812410</td></tr>\n",
       "\t<tr><th scope=row>Hits</th><td>Hits     </td><td> 4.0117255</td></tr>\n",
       "\t<tr><th scope=row>Assists</th><td>Assists  </td><td> 3.8786634</td></tr>\n",
       "\t<tr><th scope=row>HmRun</th><td>HmRun    </td><td> 3.6386178</td></tr>\n",
       "\t<tr><th scope=row>CRuns</th><td>CRuns    </td><td> 3.3230296</td></tr>\n",
       "\t<tr><th scope=row>Errors</th><td>Errors   </td><td> 2.6369128</td></tr>\n",
       "\t<tr><th scope=row>Runs</th><td>Runs     </td><td> 2.2048386</td></tr>\n",
       "\t<tr><th scope=row>Division</th><td>Division </td><td> 0.5347342</td></tr>\n",
       "\t<tr><th scope=row>NewLeague</th><td>NewLeague</td><td> 0.4943540</td></tr>\n",
       "\t<tr><th scope=row>League</th><td>League   </td><td> 0.2062551</td></tr>\n",
       "</tbody>\n",
       "</table>\n"
      ],
      "text/latex": [
       "A data.frame: 19 × 2\n",
       "\\begin{tabular}{r|ll}\n",
       "  & var & rel.inf\\\\\n",
       "  & <chr> & <dbl>\\\\\n",
       "\\hline\n",
       "\tCAtBat & CAtBat    & 20.8404970\\\\\n",
       "\tCRBI & CRBI      & 12.3158959\\\\\n",
       "\tWalks & Walks     &  7.4186037\\\\\n",
       "\tPutOuts & PutOuts   &  7.1958539\\\\\n",
       "\tYears & Years     &  6.3104535\\\\\n",
       "\tCWalks & CWalks    &  6.0221656\\\\\n",
       "\tCHmRun & CHmRun    &  5.7759763\\\\\n",
       "\tCHits & CHits     &  4.8914360\\\\\n",
       "\tAtBat & AtBat     &  4.2187460\\\\\n",
       "\tRBI & RBI       &  4.0812410\\\\\n",
       "\tHits & Hits      &  4.0117255\\\\\n",
       "\tAssists & Assists   &  3.8786634\\\\\n",
       "\tHmRun & HmRun     &  3.6386178\\\\\n",
       "\tCRuns & CRuns     &  3.3230296\\\\\n",
       "\tErrors & Errors    &  2.6369128\\\\\n",
       "\tRuns & Runs      &  2.2048386\\\\\n",
       "\tDivision & Division  &  0.5347342\\\\\n",
       "\tNewLeague & NewLeague &  0.4943540\\\\\n",
       "\tLeague & League    &  0.2062551\\\\\n",
       "\\end{tabular}\n"
      ],
      "text/markdown": [
       "\n",
       "A data.frame: 19 × 2\n",
       "\n",
       "| <!--/--> | var &lt;chr&gt; | rel.inf &lt;dbl&gt; |\n",
       "|---|---|---|\n",
       "| CAtBat | CAtBat    | 20.8404970 |\n",
       "| CRBI | CRBI      | 12.3158959 |\n",
       "| Walks | Walks     |  7.4186037 |\n",
       "| PutOuts | PutOuts   |  7.1958539 |\n",
       "| Years | Years     |  6.3104535 |\n",
       "| CWalks | CWalks    |  6.0221656 |\n",
       "| CHmRun | CHmRun    |  5.7759763 |\n",
       "| CHits | CHits     |  4.8914360 |\n",
       "| AtBat | AtBat     |  4.2187460 |\n",
       "| RBI | RBI       |  4.0812410 |\n",
       "| Hits | Hits      |  4.0117255 |\n",
       "| Assists | Assists   |  3.8786634 |\n",
       "| HmRun | HmRun     |  3.6386178 |\n",
       "| CRuns | CRuns     |  3.3230296 |\n",
       "| Errors | Errors    |  2.6369128 |\n",
       "| Runs | Runs      |  2.2048386 |\n",
       "| Division | Division  |  0.5347342 |\n",
       "| NewLeague | NewLeague |  0.4943540 |\n",
       "| League | League    |  0.2062551 |\n",
       "\n"
      ],
      "text/plain": [
       "          var       rel.inf   \n",
       "CAtBat    CAtBat    20.8404970\n",
       "CRBI      CRBI      12.3158959\n",
       "Walks     Walks      7.4186037\n",
       "PutOuts   PutOuts    7.1958539\n",
       "Years     Years      6.3104535\n",
       "CWalks    CWalks     6.0221656\n",
       "CHmRun    CHmRun     5.7759763\n",
       "CHits     CHits      4.8914360\n",
       "AtBat     AtBat      4.2187460\n",
       "RBI       RBI        4.0812410\n",
       "Hits      Hits       4.0117255\n",
       "Assists   Assists    3.8786634\n",
       "HmRun     HmRun      3.6386178\n",
       "CRuns     CRuns      3.3230296\n",
       "Errors    Errors     2.6369128\n",
       "Runs      Runs       2.2048386\n",
       "Division  Division   0.5347342\n",
       "NewLeague NewLeague  0.4943540\n",
       "League    League     0.2062551"
      ]
     },
     "metadata": {},
     "output_type": "display_data"
    },
    {
     "data": {
      "image/png": "[encoded data removed]",
      "text/plain": [
       "plot without title"
      ]
     },
     "metadata": {
      "image/png": {
       "height": 420,
       "width": 420
      }
     },
     "output_type": "display_data"
    }
   ],
   "source": [
    "# build the boosting model with the best lambda\n",
    "\n",
    "boost.hitters <- gbm(Salary ~ ., data = Hitters.train, distribution = \"gaussian\", n.trees = 1000, shrinkage = lambdas[which.min(test.errors)])\n",
    "summary(boost.hitters)"
   ]
  },
  {
   "cell_type": "markdown",
   "metadata": {},
   "source": [
    "We may see that “CAtBat” is by far the most important variable."
   ]
  },
  {
   "cell_type": "markdown",
   "metadata": {},
   "source": [
    "### 2.5 Now apply bagging to the training set. What is the test set MSE for this approach ?"
   ]
  },
  {
   "cell_type": "code",
   "execution_count": 47,
   "metadata": {},
   "outputs": [
    {
     "data": {
      "text/html": [
       "0.22993242086693"
      ],
      "text/latex": [
       "0.22993242086693"
      ],
      "text/markdown": [
       "0.22993242086693"
      ],
      "text/plain": [
       "[1] 0.2299324"
      ]
     },
     "metadata": {},
     "output_type": "display_data"
    }
   ],
   "source": [
    "set.seed(1)\n",
    "\n",
    "bag.hitters <- randomForest(Salary ~ ., data = Hitters.train, mtry = 19, ntree = 500)\n",
    "\n",
    "yhat.bag <- predict(bag.hitters, newdata = Hitters.test)\n",
    "\n",
    "mean((yhat.bag - Hitters.test$Salary)^2)  #MSE"
   ]
  },
  {
   "cell_type": "markdown",
   "metadata": {},
   "source": [
    "The test MSE for bagging is 0.23, which is slightly lower than the test MSE for boosting."
   ]
  }
 ],
 "metadata": {
  "kernelspec": {
   "display_name": "R",
   "language": "R",
   "name": "ir"
  },
  "language_info": {
   "codemirror_mode": "r",
   "file_extension": ".r",
   "mimetype": "text/x-r-source",
   "name": "R",
   "pygments_lexer": "r",
   "version": "3.6.1"
  }
 },
 "nbformat": 4,
 "nbformat_minor": 1
}
