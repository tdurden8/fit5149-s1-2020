{
 "cells": [
  {
   "cell_type": "markdown",
   "metadata": {},
   "source": [
    "# Exploratory Data Analysis on Wine Quality\n",
    "\n",
    "The scope of this analysis is to understand relationship of various parameters which impact the quality ratings for both Red and White wine.The data set utilized for the analysis is downloaded from UCI repository https://archive.ics.uci.edu/ml/datasets/Wine+Quality and consists of 6000+ sample data for combined Red and White wine types. \n",
    "\n",
    "\n",
    "##  Data Description\n",
    "\n",
    "**Fixed acidity:** most acids involved with wine or fixed or nonvolatile (do not evaporate readily)\n",
    "\n",
    "**Volatile acidity:** the amount of acetic acid in wine, which at too high of levels can lead to an unpleasant, vinegar taste\n",
    "\n",
    "**Citric acid:** found in small quantities, citric acid can add 'freshness' and flavor to wines\n",
    "\n",
    "**Residual sugar:** the amount of sugar remaining after fermentation stops, it's rare to find wines with less than 1 gram/liter and wines with greater than 45 grams/liter are considered sweet\n",
    "\n",
    "**Chlorides:** the amount of salt in the wine\n",
    "\n",
    "**Free sulfur dioxide:** the free form of SO2 exists in equilibrium between molecular SO2 (as a dissolved gas) and bisulfite ion; it prevents microbial growth and the oxidation of wine\n",
    "\n",
    "**Total sulfur dioxide:** amount of free and bound forms of S02; in low concentrations, SO2 is mostly undetectable in wine, but at free SO2 concentrations over 50 ppm, SO2 becomes evident in the nose and taste of wine\n",
    "\n",
    "**Density:** the density of water is close to that of water depending on the percent alcohol and sugar content\n",
    "\n",
    "**pH:** describes how acidic or basic a wine is on a scale from 0 (very acidic) to 14 (very basic); most wines are between 3-4 on the pH scale\n",
    "\n",
    "**Sulphates:** a wine additive which can contribute to sulfur dioxide gas (S02) levels, wich acts as an antimicrobial and antioxidant\n",
    "\n",
    "**Alcohol:** the percent alcohol content of the wine\n",
    "\n",
    "**Quality:** the quality is a rate from 0 to 10 which is given to the wines by assessors, and type denotes whether the wine is red or white.\n"
   ]
  },
  {
   "cell_type": "markdown",
   "metadata": {},
   "source": [
    "## Read and Clean raw data \n",
    "\n",
    "First we will read data two data tables with read.csv"
   ]
  },
  {
   "cell_type": "code",
   "execution_count": null,
   "metadata": {},
   "outputs": [],
   "source": [
    "red <- read.csv('http://archive.ics.uci.edu/ml/machine-learning-databases/wine-quality/winequality-red.csv', header = TRUE, sep = ';')\n",
    "white <- read.csv('http://archive.ics.uci.edu/ml/machine-learning-databases/wine-quality/winequality-white.csv', header = TRUE, sep = ';')"
   ]
  },
  {
   "cell_type": "markdown",
   "metadata": {},
   "source": [
    "##  Task 1:\n",
    "* What is the dimension of data set i.e. how many records and how many variables does exist? \n",
    "* What is the name of variables? \n",
    "* What is the attribute of each variable?\n",
    "\n",
    "Functions to explore the data:"
   ]
  },
  {
   "cell_type": "code",
   "execution_count": null,
   "metadata": {},
   "outputs": [],
   "source": [
    "?dim()"
   ]
  },
  {
   "cell_type": "code",
   "execution_count": null,
   "metadata": {},
   "outputs": [],
   "source": [
    "?str()"
   ]
  },
  {
   "cell_type": "code",
   "execution_count": null,
   "metadata": {},
   "outputs": [],
   "source": [
    "?names()"
   ]
  },
  {
   "cell_type": "markdown",
   "metadata": {},
   "source": [
    "Now, you explore the dataset."
   ]
  },
  {
   "cell_type": "code",
   "execution_count": null,
   "metadata": {},
   "outputs": [],
   "source": []
  },
  {
   "cell_type": "code",
   "execution_count": null,
   "metadata": {},
   "outputs": [],
   "source": []
  },
  {
   "cell_type": "code",
   "execution_count": null,
   "metadata": {},
   "outputs": [],
   "source": []
  },
  {
   "cell_type": "markdown",
   "metadata": {},
   "source": [
    "**There are 6497 records of wine evaluation, and 12 variables are in the data set. Two datasets have the same variable names.**\n",
    "\n",
    "\n",
    "We will first append two datasets together to create the master dataset for further analysis. A factor variable \"type\" is introduced as the indicator of wine type."
   ]
  },
  {
   "cell_type": "code",
   "execution_count": null,
   "metadata": {},
   "outputs": [],
   "source": [
    "# We want 'type' to be 'Red' & 'White' ('red' & 'white', to match redwhitewine.csv)\n",
    "red[, 'type'] <- 'Red'\n",
    "white[, 'type'] <- 'White'\n",
    "# Combine the two datasets and change type to a factor variable\n",
    "wine <- rbind(red, white) # and join\n",
    "wine$type <- as.factor(wine$type) "
   ]
  },
  {
   "cell_type": "markdown",
   "metadata": {},
   "source": [
    "### <font color='blue'>Additional information: differences between different data binding methods </font> \n",
    "\n",
    "\n",
    "![](http://media.wiley.com/Lux/72/326772.image0.jpg)"
   ]
  },
  {
   "cell_type": "code",
   "execution_count": null,
   "metadata": {},
   "outputs": [],
   "source": [
    "head(wine)"
   ]
  },
  {
   "cell_type": "markdown",
   "metadata": {},
   "source": [
    "Some names were too long, so we use some of common abbreviation:\n",
    "\n",
    "RS - residual sugar <br>\n",
    "ABV - percentage of alcohol <br>\n",
    "SO2 - sulfur.dioxide \n"
   ]
  },
  {
   "cell_type": "code",
   "execution_count": null,
   "metadata": {},
   "outputs": [],
   "source": [
    "names(wine)[c(4,6,7,11)]<-c(\"RS\",\"free.SO2\", \"total.SO2\",\"ABV\")\n",
    "head(wine)"
   ]
  },
  {
   "cell_type": "code",
   "execution_count": null,
   "metadata": {},
   "outputs": [],
   "source": [
    "write.csv(wine, \"Wine.csv\",row.names=FALSE)"
   ]
  },
  {
   "cell_type": "markdown",
   "metadata": {},
   "source": [
    "Here is the cleaned data, we will save the master data to a csv file for easy access later.\n",
    "\n",
    "Now we will first check data type. "
   ]
  },
  {
   "cell_type": "code",
   "execution_count": null,
   "metadata": {},
   "outputs": [],
   "source": [
    "str(wine)"
   ]
  },
  {
   "cell_type": "markdown",
   "metadata": {},
   "source": [
    "Only one variable is factor variable, all other variables are numaric variables. \n",
    "\n",
    "## Task 2:\n",
    "Find the descriptive statistics of variables. Describe the interesting observations.\n",
    "There are many ways in R to compute the descriptive statistics. Here, you can try the function \n",
    "<font color=\"DodgerBlue\">summary()</font>"
   ]
  },
  {
   "cell_type": "code",
   "execution_count": 2,
   "metadata": {},
   "outputs": [
    {
     "ename": "ERROR",
     "evalue": "Error in is.factor(object): argument \"object\" is missing, with no default\n",
     "output_type": "error",
     "traceback": [
      "Error in is.factor(object): argument \"object\" is missing, with no default\nTraceback:\n",
      "1. summary()",
      "2. summary.default()",
      "3. is.factor(object)"
     ]
    }
   ],
   "source": [
    "summary()"
   ]
  },
  {
   "cell_type": "markdown",
   "metadata": {},
   "source": [
    "Now, try to use the <font color=\"DodgerBlue\">summary()</font> function to print out summary statistics such as\n",
    "<ul>\n",
    "  <li>min/max</li>\n",
    "  <li>median/mean</li>\n",
    "  <li>quantiles</li>\n",
    "</ul>\n"
   ]
  },
  {
   "cell_type": "code",
   "execution_count": null,
   "metadata": {
    "scrolled": true
   },
   "outputs": [],
   "source": []
  },
  {
   "cell_type": "markdown",
   "metadata": {},
   "source": [
    "If you need advanced descriptive statistics, you can use describe from the <a href=\"https://www.rdocumentation.org/packages/psych/versions/1.8.12\"> psych </a>library."
   ]
  },
  {
   "cell_type": "code",
   "execution_count": null,
   "metadata": {},
   "outputs": [],
   "source": [
    "library(psych)"
   ]
  },
  {
   "cell_type": "markdown",
   "metadata": {},
   "source": [
    "Try the <a href=\"https://www.rdocumentation.org/packages/psych/versions/1.8.12/topics/describe\">describe()</a> function"
   ]
  },
  {
   "cell_type": "code",
   "execution_count": null,
   "metadata": {},
   "outputs": [],
   "source": []
  },
  {
   "cell_type": "code",
   "execution_count": null,
   "metadata": {},
   "outputs": [],
   "source": []
  },
  {
   "cell_type": "markdown",
   "metadata": {},
   "source": [
    "Summarize your observations from the Summary below:"
   ]
  },
  {
   "cell_type": "markdown",
   "metadata": {},
   "source": []
  },
  {
   "cell_type": "markdown",
   "metadata": {},
   "source": [
    "We can compare the standard deviation for variables. Find\n",
    "<ul>\n",
    "        <li>The variable with the smallest standard deviation</li>\n",
    "        <li>The variable with the larges standard deviation</li>\n",
    "</ul>\n",
    "\n",
    "In order to do so, you migth need\n",
    "\n",
    "<ul>\n",
    "    <li> <a href=\"https://stat.ethz.ch/R-manual/R-devel/library/base/html/sort.html\">sort()</a></li>\n",
    "    <li> <a href=\"https://stat.ethz.ch/R-manual/R-devel/library/base/html/apply.html\">apply()</a></li>\n",
    "    <li> <a href=\"https://stat.ethz.ch/R-manual/R-devel/library/stats/html/sd.html\">sd()</a></li>\n",
    "</ul>"
   ]
  },
  {
   "cell_type": "code",
   "execution_count": null,
   "metadata": {},
   "outputs": [],
   "source": []
  },
  {
   "cell_type": "markdown",
   "metadata": {},
   "source": [
    "### <font color='blue'>Additional information: what is apply doing?</font> \n",
    "\n",
    "Tutorial on apply function can be found, for example, https://www.datacamp.com/community/tutorials/r-tutorial-apply-family"
   ]
  },
  {
   "cell_type": "markdown",
   "metadata": {},
   "source": [
    "## Task 3\n",
    "Generate a boxplot for all variables, boxplots for variables two by two, and separate boxplots for each variable.\n",
    "\n",
    "<font color='blue'>Additional information:  What is boxplot ?</font> \n",
    "\n",
    "![](http://www.comfsm.fm/~dleeling/statistics/boxplot-explained.png)\n",
    "\n",
    "You can consider using \n",
    "<ul>\n",
    "    <li><a href=\"https://stat.ethz.ch/R-manual/R-devel/library/graphics/html/boxplot.html\">boxplot()</a></li>\n",
    "    <li> the <b>ggplot2</b> libraray: you can refer to this <a href=\"http://t-redactyl.io/blog/2016/04/creating-plots-in-r-using-ggplot2-part-10-boxplots.html\">online tutorial</a></li>\n",
    "</ul>"
   ]
  },
  {
   "cell_type": "code",
   "execution_count": null,
   "metadata": {},
   "outputs": [],
   "source": []
  },
  {
   "cell_type": "code",
   "execution_count": null,
   "metadata": {},
   "outputs": [],
   "source": []
  },
  {
   "cell_type": "code",
   "execution_count": null,
   "metadata": {},
   "outputs": [],
   "source": []
  },
  {
   "cell_type": "markdown",
   "metadata": {},
   "source": [
    "## Task 4: Check correlation\n",
    "Investigate the associations between variables. Calculate the correlation between variables.\n",
    "As discussed in the lecture, we could use the scatter plot, where we plot one variable against another.\n",
    "There are many methods, for example\n",
    "<ul>\n",
    "    <li><font color=\"DodgerBlue\">plot()</font></li>\n",
    "    <li><font color=\"DodgerBlue\">pairs()</font></li>\n",
    "    <li><font color=\"DodgerBlue\">cor()</font></li>\n",
    "    <li><font color=\"DodgerBlue\">scatterplotMatrix()</font> in the <b>car</b> library</li>\n",
    "</ul>\n",
    "\n",
    "Scatterplots are usefull to examine in bivariate data such as linearity, slope, and strength.\n"
   ]
  },
  {
   "cell_type": "markdown",
   "metadata": {},
   "source": [
    "####  <font color='blue'>Additional information: What is correlation coefficient? </font> \n",
    "\n",
    "![](http://www.resacorp.com/images/slrund031.gif)\n",
    "\n",
    "\n",
    "\n",
    "Strong correlation?\n",
    "\n",
    "![](http://www.uow.edu.au/content/groups/public/@web/@stsv/documents/mm/uow153493.gif)"
   ]
  },
  {
   "cell_type": "code",
   "execution_count": null,
   "metadata": {},
   "outputs": [],
   "source": []
  },
  {
   "cell_type": "markdown",
   "metadata": {},
   "source": [
    "## Task 5\n",
    "Find the distribution of variables, and describe the shape of the distribution.\n",
    "Histogram is one of the ways to study the distribution of a variable. \n",
    "Try to generate the histogram of \n",
    "* ABV: the Alcohol content \n",
    "\n",
    "You can consider the <a href=\"https://stat.ethz.ch/R-manual/R-devel/library/graphics/html/hist.html\">hist()</a> function."
   ]
  },
  {
   "cell_type": "code",
   "execution_count": null,
   "metadata": {},
   "outputs": [],
   "source": []
  },
  {
   "cell_type": "markdown",
   "metadata": {},
   "source": [
    "The distribution of alcohol data is skewed to \n",
    "* the right?\n",
    "* or the left?\n",
    "\n",
    "Now, further study the distribution of <b>ABV</b> for read wine only"
   ]
  },
  {
   "cell_type": "code",
   "execution_count": null,
   "metadata": {},
   "outputs": [],
   "source": []
  },
  {
   "cell_type": "markdown",
   "metadata": {},
   "source": [
    "The distribution of alcohol content data for red wine is skewed to \n",
    "* the right?\n",
    "* ro the left?\n",
    "\n",
    "Alternatively we can use ggplot. Lets compare four indicators \n",
    "* pH\n",
    "* free.SO2\n",
    "* total.SO2\n",
    "* ABV\n",
    "\n",
    "for red wine and wihte wine separately with ggplot. You might need the following libraries\n",
    "* gridExtra\n",
    "\n",
    "Start with red wine."
   ]
  },
  {
   "cell_type": "code",
   "execution_count": null,
   "metadata": {},
   "outputs": [],
   "source": []
  },
  {
   "cell_type": "code",
   "execution_count": null,
   "metadata": {},
   "outputs": [],
   "source": []
  },
  {
   "cell_type": "markdown",
   "metadata": {},
   "source": [
    "What are your observations from the four histograms?"
   ]
  },
  {
   "cell_type": "markdown",
   "metadata": {},
   "source": []
  },
  {
   "cell_type": "markdown",
   "metadata": {},
   "source": [
    "A similar distributon analysis for white wine is given below"
   ]
  },
  {
   "cell_type": "code",
   "execution_count": null,
   "metadata": {},
   "outputs": [],
   "source": []
  },
  {
   "cell_type": "markdown",
   "metadata": {},
   "source": [
    "What are your observations?"
   ]
  },
  {
   "cell_type": "markdown",
   "metadata": {},
   "source": []
  },
  {
   "cell_type": "markdown",
   "metadata": {},
   "source": [
    "# Further studies\n",
    "\n",
    "## Correlation plots\n",
    "\n",
    "\n",
    "As below, installing and loading GGally fails, could be an R version issue, not all libraries work all the time. \n",
    "\n",
    "There are alternatives:\n",
    "\n",
    "* library(corrgram)\n",
    "* library(corrplot)\n",
    "\n",
    "#### but in this case none of them worked... (they may work for you)\n",
    "Below is an example of what was produced by GGally:\n",
    "\n",
    "<img src = \"GGally.png\">\n",
    "\n",
    "from http://rstudio-pubs-static.s3.amazonaws.com/24803_abbae17a5e154b259f6f9225da6dade0.html\n",
    "\n",
    "A mashup of scatter, correlations and boxplot, a bit messy, there are alternatives.. DIY"
   ]
  },
  {
   "cell_type": "code",
   "execution_count": null,
   "metadata": {},
   "outputs": [],
   "source": [
    "library(GGally) \n",
    "# GGally install:\n",
    "# install.packages('GGally', repos = c('http://cran.ms.unimelb.edu.au'))"
   ]
  },
  {
   "cell_type": "code",
   "execution_count": null,
   "metadata": {},
   "outputs": [],
   "source": [
    "# may need to update R\n",
    "# there are alternatives: \n",
    "# Correlogram Example\n",
    "# install.packages('corrplot', repos = c('http://cran.ms.unimelb.edu.au'))\n",
    "# library(corrplot)\n",
    "# install.packages('corrgram', repos = c('http://cran.ms.unimelb.edu.au'))\n",
    "# library(corrgram)\n",
    "# both failed, DIY"
   ]
  },
  {
   "cell_type": "code",
   "execution_count": null,
   "metadata": {},
   "outputs": [],
   "source": [
    "# DIY correlation plot\n",
    "# http://stackoverflow.com/questions/31709982/how-to-plot-in-r-a-correlogram-on-top-of-a-correlation-matrix\n",
    "# there's some truth to the quote that modern programming is often stitching together pieces from SO \n",
    "\n",
    "colorRange <- c('#69091e', '#e37f65', 'white', '#aed2e6', '#042f60')\n",
    "## colorRamp() returns a function which takes as an argument a number\n",
    "## on [0,1] and returns a color in the gradient in colorRange\n",
    "myColorRampFunc <- colorRamp(colorRange)\n",
    "\n",
    "panel.cor <- function(w, z, ...) {\n",
    "    correlation <- cor(w, z)\n",
    "\n",
    "    ## because the func needs [0,1] and cor gives [-1,1], we need to shift and scale it\n",
    "    col <- rgb(myColorRampFunc((1 + correlation) / 2 ) / 255 )\n",
    "\n",
    "    ## square it to avoid visual bias due to \"area vs diameter\"\n",
    "    radius <- sqrt(abs(correlation))\n",
    "    radians <- seq(0, 2*pi, len = 50) # 50 is arbitrary\n",
    "    x <- radius * cos(radians)\n",
    "    y <- radius * sin(radians)\n",
    "    ## make them full loops\n",
    "    x <- c(x, tail(x,n=1))\n",
    "    y <- c(y, tail(y,n=1))\n",
    "\n",
    "    ## trick: \"don't create a new plot\" thing by following the\n",
    "    ## advice here: http://www.r-bloggers.com/multiple-y-axis-in-a-r-plot/\n",
    "    ## This allows\n",
    "    par(new=TRUE)\n",
    "    plot(0, type='n', xlim=c(-1,1), ylim=c(-1,1), axes=FALSE, asp=1)\n",
    "    polygon(x, y, border=col, col=col)\n",
    "}\n",
    "\n",
    "# usage e.g.:\n",
    "# pairs(mtcars, upper.panel = panel.cor)"
   ]
  },
  {
   "cell_type": "code",
   "execution_count": null,
   "metadata": {},
   "outputs": [],
   "source": [
    "pairs(wine[sample.int(nrow(wine),1000),], upper.panel=panel.cor)"
   ]
  },
  {
   "cell_type": "markdown",
   "metadata": {},
   "source": [
    "Nice, blue indicates positive correlation, red indicates negative correlation.\n",
    "\n",
    "\n",
    "#### What does the absence of a circle (red or blue) indicate?\n",
    "#### What shape is the corresponding scatter likely to be?\n",
    "\n",
    "\n",
    "Now look at the blue (positive) and red (negative) correlations. e.g. 'freeSO2' and 'totalSO2' (on the plot diagonal). To the right of 'freeSO2' is a large blue circle representing a positive (+ve) correlation with total SO2 (more SO2 = more SO2?) the corresponding scatter plot is below 'freeSO2', it's a left to right upwards trend. Conversely, note density vs alcohol, a large red circle (3 squares to the right of density), the corresponding scatter is diametrically opposite (3 squares below density), a right to left upwards trend.\n",
    "\n",
    "Observations from the plot:\n",
    "\n",
    "\n",
    "* As suspected, free SO2 and total SO2 are highly correlated with each other (correlation coefficient 0.72) and negatively correlated with acidity.\n",
    "\n",
    "* pH is negatively correlated with fixed acidity, citric acid, total SO2 and residual sugar. The negative correlation with the residual sugar makes sense, since sugar has not yet oxidized into acids. Moreover, pH is positively correlated with the volatile acidity, which is a bit counter-intuitive.\n",
    "\n",
    "* Residual sugar and density are also positively correlated, which we guess makes sense, adding sugar ought to increase the density!\n",
    "\n",
    "* According to description, sulphates are added to produce SO2 which acts as antimicrobial and antioxidant; total SO2 is also added for the same purpose, but why then they are negatively correlated, perhaps one is converted into another.\n",
    "\n",
    "* It is surprising to see positive correlation between total SO2 and residual sugar, maybe more SO2 is added to prevent sugar from being converted, and thus make sure that wine tastes a bit sugary.\n",
    "\n",
    "* It is nice to see volatile acidity is negatively correlated with SO2, as SO2 is added in the wine to prevent acetic acid formation.\n",
    "\n",
    "* Wine quality is highly correlated with alcohol quantity and density . However, alcohol and density are negatively correlated (correlation coefficient: -0.69). Therefore, there might be collinearity problem. It’s the alcohol amount that reduces the density, due to chemistry, hence alcohol amount is a good choice as a wine quality predictor. \n",
    "\n",
    "* Wine quality is negatively correlated with the volatile acidity, as too high levels of it leads to vinegary taste, supporting the description about the data set.\n",
    "\n",
    "https://en.wikipedia.org/wiki/Wine_fault#Sulfur_compounds\n",
    "\n",
    "\n",
    "#### Should red & white wine be analysed together?\n"
   ]
  },
  {
   "cell_type": "code",
   "execution_count": null,
   "metadata": {},
   "outputs": [],
   "source": [
    "pairs(wine[wine$type==\"Red\",-13], upper.panel = panel.cor) # just red"
   ]
  },
  {
   "cell_type": "code",
   "execution_count": null,
   "metadata": {},
   "outputs": [],
   "source": [
    "pairs(wine[wine$type==\"White\",-13], upper.panel = panel.cor) # just white"
   ]
  },
  {
   "cell_type": "markdown",
   "metadata": {},
   "source": [
    "Are the correlation matrix the same ?\n",
    "\n",
    "\n",
    "Let's have a look at red and white wine separately. "
   ]
  },
  {
   "cell_type": "code",
   "execution_count": null,
   "metadata": {},
   "outputs": [],
   "source": [
    "ggplot(aes(x=ABV),data =wine) + \n",
    "    geom_density(aes(fill = type)) +\n",
    "    facet_wrap(~quality) +\n",
    "    ggtitle('Alcohol and Quality Relationship')"
   ]
  },
  {
   "cell_type": "markdown",
   "metadata": {},
   "source": [
    "There seems to be no significant bias of the alcohol content even though there are samples with higher alcohol \n",
    "content for red wine exhibiting a higher density reading for the quality levels of 3 and 5 as compared to white wine.\n",
    "From our earlier scatterplot matrices, alcohol seems to exhibit a strong correlation with pH value."
   ]
  },
  {
   "cell_type": "code",
   "execution_count": null,
   "metadata": {},
   "outputs": [],
   "source": [
    "ggplot(aes(x=ABV, y=pH),data = wine) + \n",
    "    geom_jitter(aes(color = type, bg = type), alpha=1/10,,pch=21, cex=4) +\n",
    "    facet_wrap(~quality) +\n",
    "    scale_color_brewer(type = 'div') +\n",
    "    ggtitle('Alcohol content and pH Relationship')"
   ]
  },
  {
   "cell_type": "markdown",
   "metadata": {},
   "source": [
    "As expected, there seems to a dip in density while the Alcohol content increases,\n",
    "and the white wine exhibits a more prominent dip.\n",
    "\n",
    "The negative correlation of Alcohol with Total and Free SO2 and Chlorides are analysed as below:"
   ]
  },
  {
   "cell_type": "code",
   "execution_count": null,
   "metadata": {},
   "outputs": [],
   "source": [
    "a1<-ggplot(aes(x=ABV,y=total.SO2), data = wine) +\n",
    "    geom_density(aes(color=type),stat='summary',fun.y=median)\n",
    " \n",
    "a2<-ggplot(aes(x=ABV,y=free.SO2), data = wine) +\n",
    "    geom_density(aes(color=type),stat='summary',fun.y=median)\n",
    "  \n",
    "a3<-ggplot(aes(x=ABV,y=chlorides), data = wine) +\n",
    "    geom_density(aes(color=type),stat='summary',fun.y=median)\n",
    "\n",
    "grid.arrange(a1,a2,a3,ncol=2)"
   ]
  },
  {
   "cell_type": "markdown",
   "metadata": {},
   "source": [
    "The observations from the above analysis are as follows:\n",
    "\n",
    "* Total SO2: \n",
    "White wine exhibits higher Total SO2 contents than Red wine across all Alcohol levels. \n",
    "Total SO2 content decreases with Alcohol content for White wine\n",
    "\n",
    "* Free SO2: \n",
    "Again White wine exhibits higher Free SO2 levels across all Alcohol content though the unit difference between Red and White wine seems to be lower as compared to the Total SO2 difference. The Free SO2 content decrease as the alcohol content increases for White wine.\n",
    "\n",
    "* Chloride: \n",
    "Red wine has a higher chloride content than white wine with increasing Alcohol content.\n",
    "The Chloride content is quite high at lower Alcohol content between 8 and 9 but then exhibits steady reduction till Alcohol content level of 13 before a spike. White wine exhibits lower Chloride levels across Alcohol content levels and holds a steady pattern throughout\n",
    "\n",
    "* Sulphur Dioxide: \n",
    "Usage of SO2 in Wines has been a discussion topic for long time due to the health related issues. It will be interesting to see the distribution of SO2 across Red and White wine, and their final impact on quality.\n",
    "\n",
    "Analysis of Free SO2 across the Red and White wine is provided below"
   ]
  },
  {
   "cell_type": "code",
   "execution_count": null,
   "metadata": {},
   "outputs": [],
   "source": [
    "ggplot(aes(x = quality, y = free.SO2), data = wine) + \n",
    "    geom_point(aes(color=type),alpha=1/4, position = 'jitter') +\n",
    "    ggtitle(' Free SO2 and  Quality Relationship')\n"
   ]
  },
  {
   "cell_type": "markdown",
   "metadata": {},
   "source": [
    "This indicates for the same quality ratings, white wine has higher free SO2 than the read wine on average across all\n",
    "the quality ratings.\n",
    "\n",
    "Then, we analyze the Total SO2."
   ]
  },
  {
   "cell_type": "code",
   "execution_count": null,
   "metadata": {},
   "outputs": [],
   "source": [
    "ggplot(aes(x = quality, y = total.SO2), data = wine) + \n",
    "    geom_point(aes(color=type),alpha=1/4, position = 'jitter') +\n",
    "    ggtitle('Total SO2 and Quality Relationship')"
   ]
  },
  {
   "cell_type": "markdown",
   "metadata": {},
   "source": [
    "The analysis plot indicates again the existence of higher total SO2 in the White wine samples as compared to Red wine.\n",
    "\n",
    "The relationship of the Total SO2 with sulpahtes and residual sugar is analysed below:"
   ]
  },
  {
   "cell_type": "code",
   "execution_count": null,
   "metadata": {},
   "outputs": [],
   "source": [
    "b1<-ggplot(aes(x=total.SO2,y=sulphates), data = wine) +\n",
    "    geom_density(aes(color=type),stat='summary',fun.y=median)\n",
    "  \n",
    "b2<-ggplot(aes(x=total.SO2,y=RS), data = wine) +\n",
    "    geom_density(aes(color=type),stat='summary',fun.y=median)\n",
    "\n",
    "grid.arrange(b1,b2,ncol=2)"
   ]
  },
  {
   "cell_type": "markdown",
   "metadata": {},
   "source": [
    "The observations from the above analysis is provided below:\n",
    "\n",
    "* Sulphate:\n",
    "\n",
    "The sulphate level is higher for the red wine as compared to white wine, with a huge spike around 150.\n",
    "\n",
    "For the total SO2 level around 250, the sulphates level of white wine is higher that that of red wine.\n",
    "\n",
    "White wine have a total SO2 level higher than 280 units.\n",
    "\n",
    "* Residual Sugar\n",
    "\n",
    "White wine exhibits a high level of Residual sugar around 250 as compared to Red wine, and in general the quantity of Residual sugar seems to increase as total.SO2 increases. The two lines a lot.\n",
    "\n",
    "The relationships between free.SO2 and Sulphate/Residual Sugar are analyzed as below:"
   ]
  },
  {
   "cell_type": "code",
   "execution_count": null,
   "metadata": {},
   "outputs": [],
   "source": [
    "c1<-ggplot(aes(x=free.SO2,y=sulphates), data = wine) +\n",
    "    geom_density(aes(color=type),stat='summary',fun.y=median)\n",
    " \n",
    "c2<-ggplot(aes(x=free.SO2,y=RS), data = wine) +\n",
    "    geom_density(aes(color=type),stat='summary',fun.y=median)\n",
    "\n",
    "grid.arrange(c1,c2,ncol=2)"
   ]
  },
  {
   "cell_type": "markdown",
   "metadata": {},
   "source": [
    "Similarly, one can conclude that\n",
    "\n",
    "* Sulphate level is quite high for the red wine as compared to white wine.\n",
    "Red wine does not exhibit a Free SO2 level beyond 70 units\n",
    "\n",
    "* Residual Sugar:\n",
    "white wine exhibits a higher level of residual sugar and has peaks around 150.\n",
    "\n",
    "A final comparison is done between the Red and White wine to understand the difference between the two variants \n",
    "for the parameter of Total and Free SO2 and the PH values."
   ]
  },
  {
   "cell_type": "code",
   "execution_count": null,
   "metadata": {},
   "outputs": [],
   "source": [
    "s1<-ggplot(aes(x=pH,y=free.SO2), data = wine) +\n",
    "    geom_line(aes(color=type),stat='summary',fun.y=median)\n",
    "\n",
    "s2<-ggplot(aes(x=pH,y=total.SO2), data = wine) +\n",
    "    geom_line(aes(color=type),stat='summary',fun.y=median)\n",
    "\n",
    "grid.arrange(s1,s2,ncol=2)"
   ]
  },
  {
   "cell_type": "markdown",
   "metadata": {},
   "source": [
    "The above plot indicates that white wine does exhibit higher SO2 components as compared to Red Wine for \n",
    "similar pH values across all pH values within the sample.\n",
    "There seems to be a higher variation for both SO2 values in \n",
    "both Red and White wines between a pH value of 3.5 and 4.0. \n",
    "A closer look at these pH interval is given below"
   ]
  },
  {
   "cell_type": "code",
   "execution_count": null,
   "metadata": {},
   "outputs": [],
   "source": [
    "t1<-ggplot(aes(x=pH,y=free.SO2), data = wine) +\n",
    "    geom_line(aes(color=type),stat='summary',fun.y=median) +\n",
    "    xlim(3.5,4.0)\n",
    "\n",
    "t2<-ggplot(aes(x=pH,y=total.SO2), data = wine) +\n",
    "    geom_line(aes(color=type),stat='summary',fun.y=median) +\n",
    "    xlim(3.5,4.0)\n",
    "\n",
    "grid.arrange(t1,t2,ncol=2)"
   ]
  },
  {
   "cell_type": "markdown",
   "metadata": {},
   "source": [
    "The above plots indicate a high peak for free SO2 (60 units) for a pH value of 3.65 while a high peak for \n",
    "red wine for a pH value of 3.75 (41 units). In the case of Total SO2, the peak of around 180 units for white at a pH level \n",
    "around 3.62 while Red wine exhibits a peak of around 105 units at a pH level of 3.85. Also, it is observed that only \n",
    "red wine has a pH value beyond 3.85 and the Total and Free SO2 levels at this level is low."
   ]
  },
  {
   "cell_type": "code",
   "execution_count": null,
   "metadata": {},
   "outputs": [],
   "source": [
    "ggplot(aes(x=ABV,y=free.SO2), data = wine) +\n",
    "    geom_line(aes(color=type),stat='summary',fun.y=median) +\n",
    "    ggtitle('Alcohol and Free SO2 relationship')"
   ]
  },
  {
   "cell_type": "markdown",
   "metadata": {},
   "source": [
    "The above plot indicates that for the same alcohol content, free.SO2 is higher in white wine than \n",
    "red wine and also the free SO2 decreases quite significantly with the alcohol content increases."
   ]
  },
  {
   "cell_type": "code",
   "execution_count": null,
   "metadata": {},
   "outputs": [],
   "source": [
    "ggplot(aes(x = pH),data = wine) + \n",
    "    geom_density(aes(fill = type)) +\n",
    "    facet_wrap(~quality) +\n",
    "    ggtitle('pH values  relationship with Quality')"
   ]
  },
  {
   "cell_type": "markdown",
   "metadata": {},
   "source": [
    "From the above analysis plot, there doesn't seem to be any specific relations between pH values and quality in terms of the spread. However the Red wine tends to exhibit a higher pH value density than white wine for quality rating till 7 while quality rating of 8 has more similar values of density. The quality rating of 9 exhibits a more narrower spread for pH value between 3.1 and 3.6.\n",
    "\n",
    "\n",
    "## Summary\n",
    "\n",
    "pH value is considered an important parameter when determining the quality of the Wine.The analysis over the samples however indicate that there is no specific values of pH which provides bias for quality ratings and a higher density of Red Wine samples did indicate a higher PH values as compared to White wine samples for the same quality ratings.These pH value however was found to be optimum between a value of 3.0 and 3.5. A pH value of higher than 3.5 tends to exhibit a higher SO2 values which can be concern for people with concerns of health issues with SO2. Samples with higher alcohol content did exhibit lower SO2 counts and also White wine samples exhibited a higher level of SO2 components as compared to Red wine for the same level of Alcohol.\n",
    "\n",
    "Some of the learnings from the analysis were as follows:\n",
    "\n",
    "* The understanding that Red Wine generally exhibits more SO2 properties than White wine seems to be not true as per the samples considered.The analysis proves that White wine exhibit a higher level of SO2 properties\n",
    "* It always seemed that pH value was a key factor in determining the quality of the wines but from the analysis ,it seems that pH value do not exhibit any patterns which can be utilized as a key deterministic variable for wine quality testing by sensory analysis.\n",
    "* From the samples analyzed,the wines with higher Alcohol content exhibited lower SO2 content as compared with samples with lower Alcohol content. 4.For the buyer conscious of the sugar content in the wines,White wine exhibits more residual sugar and at we have seen spikes in the residual sugar for certain ranges of the Free and Total SO2 primarily with White wine.\n",
    "\n",
    "A limitation of the current analysis is that the current data consists of samples collected from a specific portugal region.It will be interesting to obtain datasets across various wine making regions to eliminate any bias created by any specific qualities of the product,\n",
    "\n",
    "\n",
    "\n",
    "## Reference\n",
    "\n",
    "* http://rstudio-pubs-static.s3.amazonaws.com/24803_abbae17a5e154b259f6f9225da6dade0.html\n",
    "* https://rpubs.com/Bilal_Mahmood/EDA"
   ]
  },
  {
   "cell_type": "code",
   "execution_count": null,
   "metadata": {},
   "outputs": [],
   "source": []
  }
 ],
 "metadata": {
  "kernelspec": {
   "display_name": "R",
   "language": "R",
   "name": "ir"
  },
  "language_info": {
   "codemirror_mode": "r",
   "file_extension": ".r",
   "mimetype": "text/x-r-source",
   "name": "R",
   "pygments_lexer": "r",
   "version": "3.6.1"
  }
 },
 "nbformat": 4,
 "nbformat_minor": 1
}
